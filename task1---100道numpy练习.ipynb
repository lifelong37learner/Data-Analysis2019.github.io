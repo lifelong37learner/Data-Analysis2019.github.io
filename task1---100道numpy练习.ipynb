{
 "cells": [
  {
   "cell_type": "code",
   "execution_count": 3,
   "metadata": {},
   "outputs": [],
   "source": [
    "import numpy as np"
   ]
  },
  {
   "cell_type": "code",
   "execution_count": 4,
   "metadata": {},
   "outputs": [
    {
     "name": "stdout",
     "output_type": "stream",
     "text": [
      "1.16.2\n",
      "mkl_info:\n",
      "    libraries = ['mkl_rt']\n",
      "    library_dirs = ['D:/ProgramData/Anaconda3\\\\Library\\\\lib']\n",
      "    define_macros = [('SCIPY_MKL_H', None), ('HAVE_CBLAS', None)]\n",
      "    include_dirs = ['C:\\\\Program Files (x86)\\\\IntelSWTools\\\\compilers_and_libraries_2019.0.117\\\\windows\\\\mkl', 'C:\\\\Program Files (x86)\\\\IntelSWTools\\\\compilers_and_libraries_2019.0.117\\\\windows\\\\mkl\\\\include', 'C:\\\\Program Files (x86)\\\\IntelSWTools\\\\compilers_and_libraries_2019.0.117\\\\windows\\\\mkl\\\\lib', 'D:/ProgramData/Anaconda3\\\\Library\\\\include']\n",
      "blas_mkl_info:\n",
      "    libraries = ['mkl_rt']\n",
      "    library_dirs = ['D:/ProgramData/Anaconda3\\\\Library\\\\lib']\n",
      "    define_macros = [('SCIPY_MKL_H', None), ('HAVE_CBLAS', None)]\n",
      "    include_dirs = ['C:\\\\Program Files (x86)\\\\IntelSWTools\\\\compilers_and_libraries_2019.0.117\\\\windows\\\\mkl', 'C:\\\\Program Files (x86)\\\\IntelSWTools\\\\compilers_and_libraries_2019.0.117\\\\windows\\\\mkl\\\\include', 'C:\\\\Program Files (x86)\\\\IntelSWTools\\\\compilers_and_libraries_2019.0.117\\\\windows\\\\mkl\\\\lib', 'D:/ProgramData/Anaconda3\\\\Library\\\\include']\n",
      "blas_opt_info:\n",
      "    libraries = ['mkl_rt']\n",
      "    library_dirs = ['D:/ProgramData/Anaconda3\\\\Library\\\\lib']\n",
      "    define_macros = [('SCIPY_MKL_H', None), ('HAVE_CBLAS', None)]\n",
      "    include_dirs = ['C:\\\\Program Files (x86)\\\\IntelSWTools\\\\compilers_and_libraries_2019.0.117\\\\windows\\\\mkl', 'C:\\\\Program Files (x86)\\\\IntelSWTools\\\\compilers_and_libraries_2019.0.117\\\\windows\\\\mkl\\\\include', 'C:\\\\Program Files (x86)\\\\IntelSWTools\\\\compilers_and_libraries_2019.0.117\\\\windows\\\\mkl\\\\lib', 'D:/ProgramData/Anaconda3\\\\Library\\\\include']\n",
      "lapack_mkl_info:\n",
      "    libraries = ['mkl_rt']\n",
      "    library_dirs = ['D:/ProgramData/Anaconda3\\\\Library\\\\lib']\n",
      "    define_macros = [('SCIPY_MKL_H', None), ('HAVE_CBLAS', None)]\n",
      "    include_dirs = ['C:\\\\Program Files (x86)\\\\IntelSWTools\\\\compilers_and_libraries_2019.0.117\\\\windows\\\\mkl', 'C:\\\\Program Files (x86)\\\\IntelSWTools\\\\compilers_and_libraries_2019.0.117\\\\windows\\\\mkl\\\\include', 'C:\\\\Program Files (x86)\\\\IntelSWTools\\\\compilers_and_libraries_2019.0.117\\\\windows\\\\mkl\\\\lib', 'D:/ProgramData/Anaconda3\\\\Library\\\\include']\n",
      "lapack_opt_info:\n",
      "    libraries = ['mkl_rt']\n",
      "    library_dirs = ['D:/ProgramData/Anaconda3\\\\Library\\\\lib']\n",
      "    define_macros = [('SCIPY_MKL_H', None), ('HAVE_CBLAS', None)]\n",
      "    include_dirs = ['C:\\\\Program Files (x86)\\\\IntelSWTools\\\\compilers_and_libraries_2019.0.117\\\\windows\\\\mkl', 'C:\\\\Program Files (x86)\\\\IntelSWTools\\\\compilers_and_libraries_2019.0.117\\\\windows\\\\mkl\\\\include', 'C:\\\\Program Files (x86)\\\\IntelSWTools\\\\compilers_and_libraries_2019.0.117\\\\windows\\\\mkl\\\\lib', 'D:/ProgramData/Anaconda3\\\\Library\\\\include']\n"
     ]
    }
   ],
   "source": [
    "print(np.__version__)\n",
    "np.show_config()"
   ]
  },
  {
   "cell_type": "code",
   "execution_count": 5,
   "metadata": {},
   "outputs": [
    {
     "name": "stdout",
     "output_type": "stream",
     "text": [
      "[0. 0. 0. 0. 0. 0. 0. 0. 0. 0.]\n"
     ]
    }
   ],
   "source": [
    "Z=np.zeros(10)\n",
    "print(Z)"
   ]
  },
  {
   "cell_type": "code",
   "execution_count": 6,
   "metadata": {},
   "outputs": [
    {
     "name": "stdout",
     "output_type": "stream",
     "text": [
      "800 bytes\n"
     ]
    }
   ],
   "source": [
    "Z=np.zeros((10,10))\n",
    "print(\"%d bytes\" % (Z.size * Z.itemsize))"
   ]
  },
  {
   "cell_type": "code",
   "execution_count": 9,
   "metadata": {},
   "outputs": [
    {
     "name": "stdout",
     "output_type": "stream",
     "text": [
      "add(x1, x2, /, out=None, *, where=True, casting='same_kind', order='K', dtype=None, subok=True[, signature, extobj])\n",
      "\n",
      "Add arguments element-wise.\n",
      "\n",
      "Parameters\n",
      "----------\n",
      "x1, x2 : array_like\n",
      "    The arrays to be added.  If ``x1.shape != x2.shape``, they must be\n",
      "    broadcastable to a common shape (which may be the shape of one or\n",
      "    the other).\n",
      "out : ndarray, None, or tuple of ndarray and None, optional\n",
      "    A location into which the result is stored. If provided, it must have\n",
      "    a shape that the inputs broadcast to. If not provided or `None`,\n",
      "    a freshly-allocated array is returned. A tuple (possible only as a\n",
      "    keyword argument) must have length equal to the number of outputs.\n",
      "where : array_like, optional\n",
      "    Values of True indicate to calculate the ufunc at that position, values\n",
      "    of False indicate to leave the value in the output alone.\n",
      "**kwargs\n",
      "    For other keyword-only arguments, see the\n",
      "    :ref:`ufunc docs <ufuncs.kwargs>`.\n",
      "\n",
      "Returns\n",
      "-------\n",
      "add : ndarray or scalar\n",
      "    The sum of `x1` and `x2`, element-wise.\n",
      "    This is a scalar if both `x1` and `x2` are scalars.\n",
      "\n",
      "Notes\n",
      "-----\n",
      "Equivalent to `x1` + `x2` in terms of array broadcasting.\n",
      "\n",
      "Examples\n",
      "--------\n",
      ">>> np.add(1.0, 4.0)\n",
      "5.0\n",
      ">>> x1 = np.arange(9.0).reshape((3, 3))\n",
      ">>> x2 = np.arange(3.0)\n",
      ">>> np.add(x1, x2)\n",
      "array([[  0.,   2.,   4.],\n",
      "       [  3.,   5.,   7.],\n",
      "       [  6.,   8.,  10.]])\n"
     ]
    }
   ],
   "source": [
    "np.info(np.add) #前面numpy已经as成np,所以这里就不用numpy而是用np。"
   ]
  },
  {
   "cell_type": "code",
   "execution_count": 12,
   "metadata": {},
   "outputs": [
    {
     "name": "stdout",
     "output_type": "stream",
     "text": [
      "[0. 0. 0. 0. 1. 0. 0. 0. 0. 0.]\n"
     ]
    }
   ],
   "source": [
    "Z=np.zeros(10)\n",
    "Z[4] = 1\n",
    "print(Z)"
   ]
  },
  {
   "cell_type": "code",
   "execution_count": 14,
   "metadata": {},
   "outputs": [
    {
     "name": "stdout",
     "output_type": "stream",
     "text": [
      "[10 11 12 13 14 15 16 17 18 19 20 21 22 23 24 25 26 27 28 29 30 31 32 33\n",
      " 34 35 36 37 38 39 40 41 42 43 44 45 46 47 48 49]\n"
     ]
    }
   ],
   "source": [
    "Z=np.arange(10,50)\n",
    "print(Z)"
   ]
  },
  {
   "cell_type": "code",
   "execution_count": 15,
   "metadata": {},
   "outputs": [
    {
     "name": "stdout",
     "output_type": "stream",
     "text": [
      "[49 48 47 46 45 44 43 42 41 40 39 38 37 36 35 34 33 32 31 30 29 28 27 26\n",
      " 25 24 23 22 21 20 19 18 17 16 15 14 13 12 11 10  9  8  7  6  5  4  3  2\n",
      "  1  0]\n"
     ]
    }
   ],
   "source": [
    "Z=np.arange(50)\n",
    "Z=Z[::-1]\n",
    "print(Z)"
   ]
  },
  {
   "cell_type": "code",
   "execution_count": 16,
   "metadata": {},
   "outputs": [
    {
     "name": "stdout",
     "output_type": "stream",
     "text": [
      "[[0 1 2]\n",
      " [3 4 5]\n",
      " [6 7 8]]\n"
     ]
    }
   ],
   "source": [
    "Z=np.arange(9).reshape(3,3)\n",
    "print(Z)"
   ]
  },
  {
   "cell_type": "code",
   "execution_count": 17,
   "metadata": {},
   "outputs": [
    {
     "name": "stdout",
     "output_type": "stream",
     "text": [
      "(array([0, 1, 4], dtype=int64),)\n"
     ]
    }
   ],
   "source": [
    "nz = np.nonzero([1,2,0,0,4,0])\n",
    "print(nz)"
   ]
  },
  {
   "cell_type": "code",
   "execution_count": 18,
   "metadata": {},
   "outputs": [
    {
     "name": "stdout",
     "output_type": "stream",
     "text": [
      "[[1. 0. 0.]\n",
      " [0. 1. 0.]\n",
      " [0. 0. 1.]]\n"
     ]
    }
   ],
   "source": [
    "Z=np.eye(3)\n",
    "print(Z)"
   ]
  },
  {
   "cell_type": "code",
   "execution_count": 19,
   "metadata": {},
   "outputs": [
    {
     "name": "stdout",
     "output_type": "stream",
     "text": [
      "[[[7.56258277e-01 5.82838729e-01 4.19700368e-02]\n",
      "  [1.36089474e-01 4.68282558e-02 1.96628733e-02]\n",
      "  [7.20471864e-01 5.78619977e-01 6.49164909e-01]]\n",
      "\n",
      " [[5.86781220e-02 5.27479752e-01 8.24110879e-01]\n",
      "  [9.64277265e-01 6.28244821e-01 5.26130469e-01]\n",
      "  [6.21239888e-04 5.32684485e-01 7.61708349e-01]]\n",
      "\n",
      " [[1.29229085e-01 4.56385210e-01 1.95524116e-02]\n",
      "  [2.36420405e-01 2.45230961e-01 5.29467093e-01]\n",
      "  [4.55175654e-01 2.68330132e-01 5.44832982e-01]]]\n"
     ]
    }
   ],
   "source": [
    "Z=np.random.random((3,3,3))\n",
    "print(Z)"
   ]
  },
  {
   "cell_type": "code",
   "execution_count": 20,
   "metadata": {},
   "outputs": [
    {
     "name": "stdout",
     "output_type": "stream",
     "text": [
      "0.004710498468077584 0.996800601863515\n"
     ]
    }
   ],
   "source": [
    "Z=np.random.random((10,10))\n",
    "Zmin, Zmax, = Z.min(), Z.max()\n",
    "print(Zmin, Zmax)"
   ]
  },
  {
   "cell_type": "code",
   "execution_count": 24,
   "metadata": {},
   "outputs": [
    {
     "name": "stdout",
     "output_type": "stream",
     "text": [
      "0.5547203591971572\n"
     ]
    }
   ],
   "source": [
    "Z=np.random.random(30)\n",
    "m=Z.mean()\n",
    "print(m)"
   ]
  },
  {
   "cell_type": "code",
   "execution_count": 26,
   "metadata": {},
   "outputs": [
    {
     "name": "stdout",
     "output_type": "stream",
     "text": [
      "[[1. 1. 1. 1. 1. 1. 1. 1. 1. 1.]\n",
      " [1. 0. 0. 0. 0. 0. 0. 0. 0. 1.]\n",
      " [1. 0. 0. 0. 0. 0. 0. 0. 0. 1.]\n",
      " [1. 0. 0. 0. 0. 0. 0. 0. 0. 1.]\n",
      " [1. 0. 0. 0. 0. 0. 0. 0. 0. 1.]\n",
      " [1. 0. 0. 0. 0. 0. 0. 0. 0. 1.]\n",
      " [1. 0. 0. 0. 0. 0. 0. 0. 0. 1.]\n",
      " [1. 0. 0. 0. 0. 0. 0. 0. 0. 1.]\n",
      " [1. 0. 0. 0. 0. 0. 0. 0. 0. 1.]\n",
      " [1. 1. 1. 1. 1. 1. 1. 1. 1. 1.]]\n"
     ]
    }
   ],
   "source": [
    "Z=np.ones((10,10))\n",
    "Z[1:-1,1:-1] = 0\n",
    "print(Z)"
   ]
  },
  {
   "cell_type": "code",
   "execution_count": 28,
   "metadata": {},
   "outputs": [
    {
     "name": "stdout",
     "output_type": "stream",
     "text": [
      "[[0. 0. 0. 0. 0. 0. 0.]\n",
      " [0. 1. 1. 1. 1. 1. 0.]\n",
      " [0. 1. 1. 1. 1. 1. 0.]\n",
      " [0. 1. 1. 1. 1. 1. 0.]\n",
      " [0. 1. 1. 1. 1. 1. 0.]\n",
      " [0. 1. 1. 1. 1. 1. 0.]\n",
      " [0. 0. 0. 0. 0. 0. 0.]]\n"
     ]
    }
   ],
   "source": [
    "Z=np.ones((5,5))\n",
    "Z=np.pad(Z, pad_width = 1, mode = 'constant', constant_values = 0)\n",
    "print(Z)"
   ]
  },
  {
   "cell_type": "code",
   "execution_count": 35,
   "metadata": {},
   "outputs": [
    {
     "name": "stdout",
     "output_type": "stream",
     "text": [
      "nan\n",
      "False\n",
      "False\n",
      "True\n"
     ]
    }
   ],
   "source": [
    "print(0 * np.nan)\n",
    "print(np.nan == np.nan)\n",
    "print(np.inf > np.nan)\n",
    "print(0.3 != 3 * 0.1)"
   ]
  },
  {
   "cell_type": "code",
   "execution_count": 36,
   "metadata": {},
   "outputs": [
    {
     "name": "stdout",
     "output_type": "stream",
     "text": [
      "[[0 0 0 0 0]\n",
      " [1 0 0 0 0]\n",
      " [0 2 0 0 0]\n",
      " [0 0 3 0 0]\n",
      " [0 0 0 4 0]]\n"
     ]
    }
   ],
   "source": [
    "Z=np.diag(1+np.arange(4),k=-1)\n",
    "print(Z)"
   ]
  },
  {
   "cell_type": "code",
   "execution_count": 37,
   "metadata": {},
   "outputs": [
    {
     "name": "stdout",
     "output_type": "stream",
     "text": [
      "[[0 1 0 1 0 1 0 1]\n",
      " [1 0 1 0 1 0 1 0]\n",
      " [0 1 0 1 0 1 0 1]\n",
      " [1 0 1 0 1 0 1 0]\n",
      " [0 1 0 1 0 1 0 1]\n",
      " [1 0 1 0 1 0 1 0]\n",
      " [0 1 0 1 0 1 0 1]\n",
      " [1 0 1 0 1 0 1 0]]\n"
     ]
    }
   ],
   "source": [
    "Z = np.zeros((8,8),dtype=int)\n",
    "Z[1::2,::2] = 1\n",
    "Z[::2,1::2] = 1\n",
    "print(Z)"
   ]
  },
  {
   "cell_type": "code",
   "execution_count": 38,
   "metadata": {},
   "outputs": [
    {
     "name": "stdout",
     "output_type": "stream",
     "text": [
      "(1, 5, 4)\n"
     ]
    }
   ],
   "source": [
    "print(np.unravel_index(100,(6,7,8)))"
   ]
  },
  {
   "cell_type": "code",
   "execution_count": 39,
   "metadata": {
    "scrolled": true
   },
   "outputs": [
    {
     "name": "stdout",
     "output_type": "stream",
     "text": [
      "[[0 1 0 1 0 1 0 1]\n",
      " [1 0 1 0 1 0 1 0]\n",
      " [0 1 0 1 0 1 0 1]\n",
      " [1 0 1 0 1 0 1 0]\n",
      " [0 1 0 1 0 1 0 1]\n",
      " [1 0 1 0 1 0 1 0]\n",
      " [0 1 0 1 0 1 0 1]\n",
      " [1 0 1 0 1 0 1 0]]\n"
     ]
    }
   ],
   "source": [
    "Z = np.tile( np.array([[0,1],[1,0]]), (4,4))\n",
    "print(Z)"
   ]
  },
  {
   "cell_type": "code",
   "execution_count": 40,
   "metadata": {},
   "outputs": [
    {
     "name": "stdout",
     "output_type": "stream",
     "text": [
      "[[0.71036336 0.35770312 1.         0.73615504 0.72581981]\n",
      " [0.74259259 0.62712422 0.47417013 0.28547754 0.08584138]\n",
      " [0.19804331 0.         0.37870382 0.6101473  0.16791132]\n",
      " [0.84767763 0.4763945  0.59178885 0.95618255 0.8108152 ]\n",
      " [0.64662145 0.07092779 0.34836151 0.97198394 0.5562807 ]]\n"
     ]
    }
   ],
   "source": [
    "Z = np.random.random((5,5))\n",
    "Zmax, Zmin = Z.max(), Z.min()\n",
    "Z = (Z - Zmin)/(Zmax - Zmin)\n",
    "print(Z)"
   ]
  },
  {
   "cell_type": "code",
   "execution_count": 41,
   "metadata": {},
   "outputs": [
    {
     "data": {
      "text/plain": [
       "dtype([('r', 'u1'), ('g', 'u1'), ('b', 'u1'), ('a', 'u1')])"
      ]
     },
     "execution_count": 41,
     "metadata": {},
     "output_type": "execute_result"
    }
   ],
   "source": [
    "color = np.dtype([(\"r\", np.ubyte, 1),\n",
    "                  (\"g\", np.ubyte, 1),\n",
    "                  (\"b\", np.ubyte, 1),\n",
    "                  (\"a\", np.ubyte, 1)])\n",
    "color"
   ]
  },
  {
   "cell_type": "code",
   "execution_count": 42,
   "metadata": {},
   "outputs": [
    {
     "name": "stdout",
     "output_type": "stream",
     "text": [
      "[[3. 3.]\n",
      " [3. 3.]\n",
      " [3. 3.]\n",
      " [3. 3.]\n",
      " [3. 3.]]\n"
     ]
    }
   ],
   "source": [
    "Z = np.dot(np.ones((5,3)), np.ones((3,2)))\n",
    "print(Z)"
   ]
  },
  {
   "cell_type": "code",
   "execution_count": 43,
   "metadata": {},
   "outputs": [
    {
     "name": "stdout",
     "output_type": "stream",
     "text": [
      "[ 0  1  2  3 -4 -5 -6 -7 -8  9 10]\n"
     ]
    }
   ],
   "source": [
    "Z=np.arange(11)\n",
    "Z[(Z>3)&(Z<=8)] *= -1\n",
    "print(Z)"
   ]
  },
  {
   "cell_type": "code",
   "execution_count": 44,
   "metadata": {},
   "outputs": [
    {
     "name": "stdout",
     "output_type": "stream",
     "text": [
      "9\n"
     ]
    }
   ],
   "source": [
    "print(sum(range(5),-1))"
   ]
  },
  {
   "cell_type": "code",
   "execution_count": 45,
   "metadata": {},
   "outputs": [
    {
     "name": "stdout",
     "output_type": "stream",
     "text": [
      "10\n"
     ]
    }
   ],
   "source": [
    "from numpy import *\n",
    "print(sum(range(5),-1))"
   ]
  },
  {
   "cell_type": "code",
   "execution_count": 49,
   "metadata": {},
   "outputs": [
    {
     "data": {
      "text/plain": [
       "array([  1,   1,   4,  27, 256], dtype=int32)"
      ]
     },
     "execution_count": 49,
     "metadata": {},
     "output_type": "execute_result"
    }
   ],
   "source": [
    "Z = np.arange(5)\n",
    "Z ** Z  # legal"
   ]
  },
  {
   "cell_type": "code",
   "execution_count": 55,
   "metadata": {},
   "outputs": [
    {
     "data": {
      "text/plain": [
       "array([0, 1, 2, 4, 8], dtype=int32)"
      ]
     },
     "execution_count": 55,
     "metadata": {},
     "output_type": "execute_result"
    }
   ],
   "source": [
    "Z = np.arange(5)\n",
    "2 << Z >> 2  # false"
   ]
  },
  {
   "cell_type": "code",
   "execution_count": 51,
   "metadata": {},
   "outputs": [
    {
     "data": {
      "text/plain": [
       "array([False, False, False, False, False])"
      ]
     },
     "execution_count": 51,
     "metadata": {},
     "output_type": "execute_result"
    }
   ],
   "source": [
    "Z = np.arange(5)\n",
    "Z <- Z   # legal"
   ]
  },
  {
   "cell_type": "code",
   "execution_count": 52,
   "metadata": {},
   "outputs": [
    {
     "data": {
      "text/plain": [
       "array([0.+0.j, 0.+1.j, 0.+2.j, 0.+3.j, 0.+4.j])"
      ]
     },
     "execution_count": 52,
     "metadata": {},
     "output_type": "execute_result"
    }
   ],
   "source": [
    "Z = np.arange(5)\n",
    "1j*Z   # legal"
   ]
  },
  {
   "cell_type": "code",
   "execution_count": 53,
   "metadata": {},
   "outputs": [
    {
     "data": {
      "text/plain": [
       "array([0., 1., 2., 3., 4.])"
      ]
     },
     "execution_count": 53,
     "metadata": {},
     "output_type": "execute_result"
    }
   ],
   "source": [
    "Z = np.arange(5)\n",
    "Z/1/1   # legal"
   ]
  },
  {
   "cell_type": "code",
   "execution_count": 54,
   "metadata": {},
   "outputs": [
    {
     "ename": "ValueError",
     "evalue": "The truth value of an array with more than one element is ambiguous. Use a.any() or a.all()",
     "output_type": "error",
     "traceback": [
      "\u001b[1;31m---------------------------------------------------------------------------\u001b[0m",
      "\u001b[1;31mValueError\u001b[0m                                Traceback (most recent call last)",
      "\u001b[1;32m<ipython-input-54-b1e990eded03>\u001b[0m in \u001b[0;36m<module>\u001b[1;34m\u001b[0m\n\u001b[0;32m      1\u001b[0m \u001b[0mZ\u001b[0m \u001b[1;33m=\u001b[0m \u001b[0mnp\u001b[0m\u001b[1;33m.\u001b[0m\u001b[0marange\u001b[0m\u001b[1;33m(\u001b[0m\u001b[1;36m5\u001b[0m\u001b[1;33m)\u001b[0m\u001b[1;33m\u001b[0m\u001b[1;33m\u001b[0m\u001b[0m\n\u001b[1;32m----> 2\u001b[1;33m \u001b[0mZ\u001b[0m\u001b[1;33m<\u001b[0m\u001b[0mZ\u001b[0m\u001b[1;33m>\u001b[0m\u001b[0mZ\u001b[0m    \u001b[1;31m# false\u001b[0m\u001b[1;33m\u001b[0m\u001b[1;33m\u001b[0m\u001b[0m\n\u001b[0m",
      "\u001b[1;31mValueError\u001b[0m: The truth value of an array with more than one element is ambiguous. Use a.any() or a.all()"
     ]
    }
   ],
   "source": [
    "Z = np.arange(5)\n",
    "Z<Z>Z    # false"
   ]
  },
  {
   "cell_type": "code",
   "execution_count": 56,
   "metadata": {},
   "outputs": [
    {
     "name": "stdout",
     "output_type": "stream",
     "text": [
      "nan\n"
     ]
    },
    {
     "name": "stderr",
     "output_type": "stream",
     "text": [
      "D:\\ProgramData\\Anaconda3\\lib\\site-packages\\ipykernel_launcher.py:1: RuntimeWarning: invalid value encountered in true_divide\n",
      "  \"\"\"Entry point for launching an IPython kernel.\n"
     ]
    }
   ],
   "source": [
    "print(np.array(0) / np.array(0))"
   ]
  },
  {
   "cell_type": "code",
   "execution_count": 57,
   "metadata": {},
   "outputs": [
    {
     "name": "stdout",
     "output_type": "stream",
     "text": [
      "0\n"
     ]
    },
    {
     "name": "stderr",
     "output_type": "stream",
     "text": [
      "D:\\ProgramData\\Anaconda3\\lib\\site-packages\\ipykernel_launcher.py:1: RuntimeWarning: divide by zero encountered in floor_divide\n",
      "  \"\"\"Entry point for launching an IPython kernel.\n"
     ]
    }
   ],
   "source": [
    "print(np.array(0) // np.array(0))"
   ]
  },
  {
   "cell_type": "code",
   "execution_count": 58,
   "metadata": {},
   "outputs": [
    {
     "name": "stdout",
     "output_type": "stream",
     "text": [
      "[-2.14748365e+09]\n"
     ]
    }
   ],
   "source": [
    "print(np.array([np.nan]).astype(int).astype(float))"
   ]
  },
  {
   "cell_type": "code",
   "execution_count": 59,
   "metadata": {},
   "outputs": [
    {
     "name": "stdout",
     "output_type": "stream",
     "text": [
      "[ -3.  -2.   2.   7.  -8. -10.  -8.   7.   9.   5.]\n"
     ]
    }
   ],
   "source": [
    "Z = np.random.uniform(-10,+10,10)\n",
    "print (np.copysign(np.ceil(np.abs(Z)), Z))"
   ]
  },
  {
   "cell_type": "code",
   "execution_count": 63,
   "metadata": {},
   "outputs": [
    {
     "name": "stdout",
     "output_type": "stream",
     "text": [
      "[0 4 6 7 8 9]\n"
     ]
    }
   ],
   "source": [
    "Z1 = np.random.randint(0,10,10)\n",
    "Z2 = np.random.randint(0,10,10)\n",
    "print(np.intersect1d(Z1,Z2))#找到两个数组中的共同元素"
   ]
  },
  {
   "cell_type": "code",
   "execution_count": 71,
   "metadata": {},
   "outputs": [],
   "source": [
    "# Suicide mode on\n",
    "defaults = np.seterr(all=\"ignore\")\n",
    "Z = np.ones(1) / 0"
   ]
  },
  {
   "cell_type": "code",
   "execution_count": 74,
   "metadata": {},
   "outputs": [],
   "source": [
    "# Back to sanity\n",
    "_ = np.seterr(**defaults)\n",
    "\n",
    "#An equivalent way, with a context manager:\n",
    "    \n",
    "with np.errstate(divide='ignore'):\n",
    "    Z = np.ones(1) / 0"
   ]
  },
  {
   "cell_type": "code",
   "execution_count": 75,
   "metadata": {},
   "outputs": [
    {
     "data": {
      "text/plain": [
       "False"
      ]
     },
     "execution_count": 75,
     "metadata": {},
     "output_type": "execute_result"
    }
   ],
   "source": [
    "np.sqrt(-1) == np.emath.sqrt(-1)  # False,虚数"
   ]
  },
  {
   "cell_type": "code",
   "execution_count": 76,
   "metadata": {},
   "outputs": [
    {
     "name": "stdout",
     "output_type": "stream",
     "text": [
      "Yesterday is 2019-06-20\n",
      "Today is 2019-06-21\n",
      "Tomorrow is 2019-06-22\n"
     ]
    }
   ],
   "source": [
    "yesterday = np.datetime64('today', 'D') - np.timedelta64(1, 'D')\n",
    "today     = np.datetime64('today', 'D')\n",
    "tomorrow  = np.datetime64('today', 'D') + np.timedelta64(1, 'D')\n",
    "print (\"Yesterday is \" + str(yesterday))\n",
    "print (\"Today is \" + str(today))\n",
    "print (\"Tomorrow is \"+ str(tomorrow))"
   ]
  },
  {
   "cell_type": "code",
   "execution_count": 77,
   "metadata": {},
   "outputs": [
    {
     "name": "stdout",
     "output_type": "stream",
     "text": [
      "['2016-07-01' '2016-07-02' '2016-07-03' '2016-07-04' '2016-07-05'\n",
      " '2016-07-06' '2016-07-07' '2016-07-08' '2016-07-09' '2016-07-10'\n",
      " '2016-07-11' '2016-07-12' '2016-07-13' '2016-07-14' '2016-07-15'\n",
      " '2016-07-16' '2016-07-17' '2016-07-18' '2016-07-19' '2016-07-20'\n",
      " '2016-07-21' '2016-07-22' '2016-07-23' '2016-07-24' '2016-07-25'\n",
      " '2016-07-26' '2016-07-27' '2016-07-28' '2016-07-29' '2016-07-30'\n",
      " '2016-07-31']\n"
     ]
    }
   ],
   "source": [
    "Z = np.arange('2016-07', '2016-08', dtype='datetime64[D]')\n",
    "print(Z)"
   ]
  },
  {
   "cell_type": "code",
   "execution_count": 78,
   "metadata": {},
   "outputs": [
    {
     "data": {
      "text/plain": [
       "array([3., 3., 3.])"
      ]
     },
     "execution_count": 78,
     "metadata": {},
     "output_type": "execute_result"
    }
   ],
   "source": [
    "A = np.ones(3)*1\n",
    "B = np.ones(3)*2\n",
    "C = np.ones(3)*3\n",
    "np.add(A,B,out=B) #A+B"
   ]
  },
  {
   "cell_type": "code",
   "execution_count": 79,
   "metadata": {},
   "outputs": [
    {
     "data": {
      "text/plain": [
       "array([0.5, 0.5, 0.5])"
      ]
     },
     "execution_count": 79,
     "metadata": {},
     "output_type": "execute_result"
    }
   ],
   "source": [
    "np.divide(A,2,out=A) #A/2"
   ]
  },
  {
   "cell_type": "code",
   "execution_count": 80,
   "metadata": {},
   "outputs": [
    {
     "data": {
      "text/plain": [
       "array([-0.5, -0.5, -0.5])"
      ]
     },
     "execution_count": 80,
     "metadata": {},
     "output_type": "execute_result"
    }
   ],
   "source": [
    "np.negative(A,out=A)#A取负数"
   ]
  },
  {
   "cell_type": "code",
   "execution_count": 81,
   "metadata": {},
   "outputs": [
    {
     "data": {
      "text/plain": [
       "array([-1.5, -1.5, -1.5])"
      ]
     },
     "execution_count": 81,
     "metadata": {},
     "output_type": "execute_result"
    }
   ],
   "source": [
    "np.multiply(A,B,out=A)#A*B"
   ]
  },
  {
   "cell_type": "code",
   "execution_count": 83,
   "metadata": {},
   "outputs": [
    {
     "name": "stdout",
     "output_type": "stream",
     "text": [
      "[0. 3. 1. 0. 5. 1. 1. 6. 9. 8.]\n"
     ]
    }
   ],
   "source": [
    " Z = np.random.uniform(0,10,10)#五种方法提取一个随机数组的整数部分\n",
    "\n",
    "print (Z - Z%1)"
   ]
  },
  {
   "cell_type": "code",
   "execution_count": 84,
   "metadata": {},
   "outputs": [
    {
     "name": "stdout",
     "output_type": "stream",
     "text": [
      "[0. 3. 1. 0. 5. 1. 1. 6. 9. 8.]\n"
     ]
    }
   ],
   "source": [
    "print (np.floor(Z))"
   ]
  },
  {
   "cell_type": "code",
   "execution_count": 85,
   "metadata": {},
   "outputs": [
    {
     "name": "stdout",
     "output_type": "stream",
     "text": [
      "[0. 3. 1. 0. 5. 1. 1. 6. 9. 8.]\n"
     ]
    }
   ],
   "source": [
    "print (np.ceil(Z)-1)"
   ]
  },
  {
   "cell_type": "code",
   "execution_count": 86,
   "metadata": {},
   "outputs": [
    {
     "name": "stdout",
     "output_type": "stream",
     "text": [
      "[0 3 1 0 5 1 1 6 9 8]\n"
     ]
    }
   ],
   "source": [
    "print (Z.astype(int)) #后面的点去掉了"
   ]
  },
  {
   "cell_type": "code",
   "execution_count": 87,
   "metadata": {},
   "outputs": [
    {
     "name": "stdout",
     "output_type": "stream",
     "text": [
      "[0. 3. 1. 0. 5. 1. 1. 6. 9. 8.]\n"
     ]
    }
   ],
   "source": [
    "print (np.trunc(Z))"
   ]
  },
  {
   "cell_type": "code",
   "execution_count": 88,
   "metadata": {},
   "outputs": [
    {
     "name": "stdout",
     "output_type": "stream",
     "text": [
      "[[0. 1. 2. 3. 4.]\n",
      " [0. 1. 2. 3. 4.]\n",
      " [0. 1. 2. 3. 4.]\n",
      " [0. 1. 2. 3. 4.]\n",
      " [0. 1. 2. 3. 4.]]\n"
     ]
    }
   ],
   "source": [
    "Z = np.zeros((5,5))\n",
    "Z += np.arange(5)\n",
    "print (Z)"
   ]
  },
  {
   "cell_type": "code",
   "execution_count": 91,
   "metadata": {},
   "outputs": [
    {
     "name": "stdout",
     "output_type": "stream",
     "text": [
      "[0. 1. 2. 3. 4. 5. 6. 7. 8. 9.]\n"
     ]
    }
   ],
   "source": [
    "def generate():\n",
    "    for x in range(10):\n",
    "        yield x\n",
    "Z = np.fromiter(generate(),dtype=float,count=-1)\n",
    "print (Z)"
   ]
  },
  {
   "cell_type": "code",
   "execution_count": 94,
   "metadata": {},
   "outputs": [
    {
     "name": "stdout",
     "output_type": "stream",
     "text": [
      "[0.09090909 0.18181818 0.27272727 0.36363636 0.45454545 0.54545455\n",
      " 0.63636364 0.72727273 0.81818182 0.90909091]\n"
     ]
    }
   ],
   "source": [
    "Z = np.linspace(0,1,11,endpoint=False)[1:] #创建一个长度为10的随机向量，其值域范围从0到1，但是不包括0和1\n",
    "print (Z)"
   ]
  },
  {
   "cell_type": "code",
   "execution_count": 95,
   "metadata": {},
   "outputs": [
    {
     "name": "stdout",
     "output_type": "stream",
     "text": [
      "[0.03180276 0.03828618 0.10418554 0.22500851 0.29328059 0.42542323\n",
      " 0.49324825 0.64935329 0.83413884 0.94092062]\n"
     ]
    }
   ],
   "source": [
    "Z=np.random.random(10) #创建一个长度为10的随机向量，并将其排序\n",
    "Z.sort()\n",
    "print (Z)"
   ]
  },
  {
   "cell_type": "code",
   "execution_count": 96,
   "metadata": {},
   "outputs": [
    {
     "data": {
      "text/plain": [
       "45"
      ]
     },
     "execution_count": 96,
     "metadata": {},
     "output_type": "execute_result"
    }
   ],
   "source": [
    "Z = np.arange(10)\n",
    "np.add.reduce(Z)"
   ]
  },
  {
   "cell_type": "code",
   "execution_count": 101,
   "metadata": {},
   "outputs": [
    {
     "name": "stdout",
     "output_type": "stream",
     "text": [
      "False\n"
     ]
    }
   ],
   "source": [
    "A = np.random.randint(0,2,5) # 对于两个随机数组A和B，检查它们是否相等\n",
    "B = np.random.randint(0,2,5) \n",
    "#equal = np.allclose(A,B)\n",
    "equal = np.array_equal(A,B)\n",
    "print(equal)"
   ]
  },
  {
   "cell_type": "code",
   "execution_count": 102,
   "metadata": {},
   "outputs": [
    {
     "ename": "ValueError",
     "evalue": "assignment destination is read-only",
     "output_type": "error",
     "traceback": [
      "\u001b[1;31m---------------------------------------------------------------------------\u001b[0m",
      "\u001b[1;31mValueError\u001b[0m                                Traceback (most recent call last)",
      "\u001b[1;32m<ipython-input-102-dcc5e7f145b5>\u001b[0m in \u001b[0;36m<module>\u001b[1;34m\u001b[0m\n\u001b[0;32m      1\u001b[0m \u001b[0mZ\u001b[0m \u001b[1;33m=\u001b[0m \u001b[0mnp\u001b[0m\u001b[1;33m.\u001b[0m\u001b[0mzeros\u001b[0m\u001b[1;33m(\u001b[0m\u001b[1;36m10\u001b[0m\u001b[1;33m)\u001b[0m\u001b[1;33m\u001b[0m\u001b[1;33m\u001b[0m\u001b[0m\n\u001b[0;32m      2\u001b[0m \u001b[0mZ\u001b[0m\u001b[1;33m.\u001b[0m\u001b[0mflags\u001b[0m\u001b[1;33m.\u001b[0m\u001b[0mwriteable\u001b[0m \u001b[1;33m=\u001b[0m \u001b[1;32mFalse\u001b[0m\u001b[1;33m\u001b[0m\u001b[1;33m\u001b[0m\u001b[0m\n\u001b[1;32m----> 3\u001b[1;33m \u001b[0mZ\u001b[0m\u001b[1;33m[\u001b[0m\u001b[1;36m0\u001b[0m\u001b[1;33m]\u001b[0m \u001b[1;33m=\u001b[0m \u001b[1;36m1\u001b[0m\u001b[1;33m\u001b[0m\u001b[1;33m\u001b[0m\u001b[0m\n\u001b[0m",
      "\u001b[1;31mValueError\u001b[0m: assignment destination is read-only"
     ]
    }
   ],
   "source": [
    "Z = np.zeros(10)\n",
    "Z.flags.writeable = False\n",
    "Z[0] = 1"
   ]
  },
  {
   "cell_type": "code",
   "execution_count": 106,
   "metadata": {},
   "outputs": [
    {
     "name": "stdout",
     "output_type": "stream",
     "text": [
      "[1.29781289 1.05349029 0.49546074 1.10163071 0.77280182 1.03218352\n",
      " 1.03181217 1.28518697 0.18450259 1.08867473]\n",
      "[0.82891446 0.71531824 1.17019883 0.7983931  1.24798833 0.8531541\n",
      " 0.54666149 0.76836536 1.20894243 0.53722589]\n"
     ]
    }
   ],
   "source": [
    "Z = np.random.random((10,2)) #44. 将笛卡尔坐标下的一个10x2的矩阵转换为极坐标形式\n",
    "X,Y = Z[:,0], Z[:,1]\n",
    "R = np.sqrt(X**2+Y**2)\n",
    "T = np.arctan2(Y,X)\n",
    "print(R)\n",
    "print(T)"
   ]
  },
  {
   "cell_type": "code",
   "execution_count": 110,
   "metadata": {},
   "outputs": [
    {
     "name": "stdout",
     "output_type": "stream",
     "text": [
      "[0.00207436 0.76630013 0.18628319 0.52846472 0.17112355 0.22752644\n",
      " 0.35796831 0.         0.45458192 0.810938  ]\n"
     ]
    }
   ],
   "source": [
    "Z = np.random.random(10) #45. 创建一个长度为10的向量，并将向量中最大值替换为1\n",
    "Z[Z.argmax()] = 0\n",
    "print(Z)"
   ]
  },
  {
   "cell_type": "code",
   "execution_count": 111,
   "metadata": {},
   "outputs": [
    {
     "name": "stdout",
     "output_type": "stream",
     "text": [
      "[[(0.  , 0.  ) (0.25, 0.  ) (0.5 , 0.  ) (0.75, 0.  ) (1.  , 0.  )]\n",
      " [(0.  , 0.25) (0.25, 0.25) (0.5 , 0.25) (0.75, 0.25) (1.  , 0.25)]\n",
      " [(0.  , 0.5 ) (0.25, 0.5 ) (0.5 , 0.5 ) (0.75, 0.5 ) (1.  , 0.5 )]\n",
      " [(0.  , 0.75) (0.25, 0.75) (0.5 , 0.75) (0.75, 0.75) (1.  , 0.75)]\n",
      " [(0.  , 1.  ) (0.25, 1.  ) (0.5 , 1.  ) (0.75, 1.  ) (1.  , 1.  )]]\n"
     ]
    }
   ],
   "source": [
    "Z = np.zeros((5,5), [('x',float),('y',float)]) #46. 创建一个结构化数组，并实现 x 和 y 坐标覆盖 [0,1]x[0,1] 区域\n",
    "Z['x'], Z['y'] = np.meshgrid(np.linspace(0,1,5),\n",
    "                            np.linspace(0,1,5))\n",
    "print(Z)"
   ]
  },
  {
   "cell_type": "code",
   "execution_count": 118,
   "metadata": {},
   "outputs": [
    {
     "name": "stdout",
     "output_type": "stream",
     "text": [
      "3638.1636371179666\n"
     ]
    }
   ],
   "source": [
    "X = np.arange(8) #??? 47.构造Cauchy矩阵C (Cij =1/(xi - yj)),构建成功了吗\n",
    "Y = X + 0.5\n",
    "C = 1.0 / np.subtract.outer(X, Y)\n",
    "print(np.linalg.det(C))"
   ]
  },
  {
   "cell_type": "code",
   "execution_count": 120,
   "metadata": {
    "scrolled": true
   },
   "outputs": [
    {
     "name": "stdout",
     "output_type": "stream",
     "text": [
      "-128\n",
      "127\n",
      "-2147483648\n",
      "2147483647\n",
      "-9223372036854775808\n",
      "9223372036854775807\n",
      "-3.4028235e+38\n",
      "3.4028235e+38\n",
      "1.1920929e-07\n",
      "-1.7976931348623157e+308\n",
      "1.7976931348623157e+308\n",
      "2.220446049250313e-16\n"
     ]
    }
   ],
   "source": [
    "for dtype in [np.int8, np.int32, np.int64]: #48. 打印每个numpy标量类型的最小值和最大值\n",
    "    print(np.iinfo(dtype).min) \n",
    "    print(np.iinfo(dtype).max)\n",
    "\n",
    "for dtype in [np.float32, np.float64]:\n",
    "    print(np.finfo(dtype).min)\n",
    "    print(np.finfo(dtype).max)\n",
    "    print(np.finfo(dtype).eps)"
   ]
  },
  {
   "cell_type": "code",
   "execution_count": 131,
   "metadata": {},
   "outputs": [
    {
     "name": "stdout",
     "output_type": "stream",
     "text": [
      "[[0. 0. 0. ... 0. 0. 0.]\n",
      " [0. 0. 0. ... 0. 0. 0.]\n",
      " [0. 0. 0. ... 0. 0. 0.]\n",
      " ...\n",
      " [0. 0. 0. ... 0. 0. 0.]\n",
      " [0. 0. 0. ... 0. 0. 0.]\n",
      " [0. 0. 0. ... 0. 0. 0.]]\n"
     ]
    }
   ],
   "source": [
    "np.set_printoptions(threshold=1) #49为什么threshold must be numeric and non-NAN？threshold换成数字才可以。\n",
    "Z = np.zeros((16,16))\n",
    "print (Z)"
   ]
  },
  {
   "cell_type": "code",
   "execution_count": 132,
   "metadata": {},
   "outputs": [
    {
     "name": "stdout",
     "output_type": "stream",
     "text": [
      "65\n"
     ]
    }
   ],
   "source": [
    "Z = np.arange(100) #50. 给定标量时，如何找到数组中最接近标量的值？\n",
    "v = np.random.uniform(0,100)\n",
    "index = (np.abs(Z-v)).argmin()\n",
    "print (Z[index])"
   ]
  },
  {
   "cell_type": "code",
   "execution_count": 133,
   "metadata": {},
   "outputs": [
    {
     "name": "stdout",
     "output_type": "stream",
     "text": [
      "[((0., 0.), (0., 0., 0.)) ((0., 0.), (0., 0., 0.))\n",
      " ((0., 0.), (0., 0., 0.)) ... ((0., 0.), (0., 0., 0.))\n",
      " ((0., 0.), (0., 0., 0.)) ((0., 0.), (0., 0., 0.))]\n"
     ]
    }
   ],
   "source": [
    "Z = np.zeros(10, [ ('position', [ ('x', float, 1), #51. 创建一个表示位置(x,y)和颜色(r,g,b)的结构化数组\n",
    "                                  ('y', float, 1)]),\n",
    "                   ('color',    [ ('r', float, 1),\n",
    "                                  ('g', float, 1),\n",
    "                                  ('b', float, 1)])])\n",
    "print (Z)"
   ]
  },
  {
   "cell_type": "code",
   "execution_count": 134,
   "metadata": {},
   "outputs": [
    {
     "name": "stdout",
     "output_type": "stream",
     "text": [
      "[[0.         0.29740177 0.82225045 ... 0.52965417 0.43087449 0.60891596]\n",
      " [0.29740177 0.         1.09970501 ... 0.70971156 0.16469624 0.89140674]\n",
      " [0.82225045 1.09970501 0.         ... 0.53903272 1.1849456  0.21535612]\n",
      " ...\n",
      " [0.52965417 0.70971156 0.53903272 ... 0.         0.73760772 0.41924805]\n",
      " [0.43087449 0.16469624 1.1849456  ... 0.73760772 0.         0.98578123]\n",
      " [0.60891596 0.89140674 0.21535612 ... 0.41924805 0.98578123 0.        ]]\n"
     ]
    }
   ],
   "source": [
    "Z = np.random.random((10,2)) #52. 对一个表示坐标形状为(100,2)的随机向量，找到点与点的距离\n",
    "X,Y = np.atleast_2d(Z[:,0], Z[:,1])\n",
    "D = np.sqrt( (X-X.T)**2 + (Y-Y.T)**2)\n",
    "print (D)"
   ]
  },
  {
   "cell_type": "code",
   "execution_count": 135,
   "metadata": {},
   "outputs": [
    {
     "name": "stdout",
     "output_type": "stream",
     "text": [
      "[[0.         0.29740177 0.82225045 ... 0.52965417 0.43087449 0.60891596]\n",
      " [0.29740177 0.         1.09970501 ... 0.70971156 0.16469624 0.89140674]\n",
      " [0.82225045 1.09970501 0.         ... 0.53903272 1.1849456  0.21535612]\n",
      " ...\n",
      " [0.52965417 0.70971156 0.53903272 ... 0.         0.73760772 0.41924805]\n",
      " [0.43087449 0.16469624 1.1849456  ... 0.73760772 0.         0.98578123]\n",
      " [0.60891596 0.89140674 0.21535612 ... 0.41924805 0.98578123 0.        ]]\n"
     ]
    }
   ],
   "source": [
    "# # 方法2\n",
    "# # Much faster with scipy\n",
    "import scipy\n",
    "# # Thanks Gavin Heverly-Coulson (#issue 1)\n",
    "import scipy.spatial\n",
    "D = scipy.spatial.distance.cdist(Z,Z)\n",
    "print (D)"
   ]
  },
  {
   "cell_type": "code",
   "execution_count": 137,
   "metadata": {},
   "outputs": [
    {
     "name": "stdout",
     "output_type": "stream",
     "text": [
      "[0. 1. 2. ... 7. 8. 9.]\n"
     ]
    }
   ],
   "source": [
    "Z = np.arange(10, dtype=np.int32) #将32位的浮点数(float)转换为对应的整数(integer)\n",
    "Z = Z.astype(np.float32, copy=False)\n",
    "print (Z)"
   ]
  },
  {
   "cell_type": "code",
   "execution_count": 138,
   "metadata": {},
   "outputs": [
    {
     "name": "stdout",
     "output_type": "stream",
     "text": [
      "(0, 0) 0\n",
      "(0, 1) 1\n",
      "(0, 2) 2\n",
      "(1, 0) 3\n",
      "(1, 1) 4\n",
      "(1, 2) 5\n",
      "(2, 0) 6\n",
      "(2, 1) 7\n",
      "(2, 2) 8\n",
      "(0, 0) 0\n",
      "(0, 1) 1\n",
      "(0, 2) 2\n",
      "(1, 0) 3\n",
      "(1, 1) 4\n",
      "(1, 2) 5\n",
      "(2, 0) 6\n",
      "(2, 1) 7\n",
      "(2, 2) 8\n"
     ]
    }
   ],
   "source": [
    "Z = np.arange(9).reshape(3,3) #枚举。55、对于numpy数组，enumerate的等价操作\n",
    "for index, value in np.ndenumerate(Z):\n",
    "   print (index, value)\n",
    "for index in np.ndindex(Z.shape):\n",
    "    print (index, Z[index])"
   ]
  },
  {
   "cell_type": "code",
   "execution_count": 139,
   "metadata": {},
   "outputs": [
    {
     "name": "stdout",
     "output_type": "stream",
     "text": [
      "[[0.36787944 0.44822088 0.51979489 ... 0.51979489 0.44822088 0.36787944]\n",
      " [0.44822088 0.54610814 0.63331324 ... 0.63331324 0.54610814 0.44822088]\n",
      " [0.51979489 0.63331324 0.73444367 ... 0.73444367 0.63331324 0.51979489]\n",
      " ...\n",
      " [0.51979489 0.63331324 0.73444367 ... 0.73444367 0.63331324 0.51979489]\n",
      " [0.44822088 0.54610814 0.63331324 ... 0.63331324 0.54610814 0.44822088]\n",
      " [0.36787944 0.44822088 0.51979489 ... 0.51979489 0.44822088 0.36787944]]\n"
     ]
    }
   ],
   "source": [
    "X, Y = np.meshgrid(np.linspace(-1,1,10), np.linspace(-1,1,10)) #56. 生成一个通用的二维Gaussian-like数组\n",
    "D = np.sqrt(X*X+Y*Y)\n",
    "sigma, mu = 1.0, 0.0\n",
    "G = np.exp(-( (D-mu)**2 / ( 2.0 * sigma**2 ) ) )\n",
    "print (G)"
   ]
  },
  {
   "cell_type": "code",
   "execution_count": 144,
   "metadata": {},
   "outputs": [
    {
     "name": "stdout",
     "output_type": "stream",
     "text": [
      "[[0. 0. 0. 0. 0.]\n",
      " [0. 0. 0. 0. 0.]\n",
      " [0. 1. 1. 0. 0.]\n",
      " [0. 0. 0. 0. 0.]\n",
      " [0. 0. 0. 1. 0.]]\n"
     ]
    }
   ],
   "source": [
    "n = 5 #57. 对一个二维数组，如何在其内部随机放置p个元素?\n",
    "p = 3\n",
    "Z = np.zeros((n,n))\n",
    "np.put(Z, np.random.choice(range(n*n), p, replace=False),1)\n",
    "print (Z)"
   ]
  },
  {
   "cell_type": "code",
   "execution_count": 146,
   "metadata": {},
   "outputs": [
    {
     "name": "stdout",
     "output_type": "stream",
     "text": [
      "[[ 0.06710795 -0.29135948  0.31109006 ... -0.36934687  0.19916892\n",
      "   0.14928427]\n",
      " [ 0.25137427  0.31998427  0.33239635 ... -0.24093569  0.11275656\n",
      "  -0.00382238]\n",
      " [-0.3131917   0.06994293 -0.12300786 ...  0.53962805 -0.18550482\n",
      "   0.50026651]\n",
      " [ 0.35612418 -0.29208284  0.322591   ...  0.29394496 -0.14081465\n",
      "  -0.39231496]\n",
      " [ 0.13777747 -0.13935867  0.11388003 ...  0.26543261 -0.44351913\n",
      "   0.16392269]]\n",
      "[[ 0.06710795 -0.29135948  0.31109006 ... -0.36934687  0.19916892\n",
      "   0.14928427]\n",
      " [ 0.25137427  0.31998427  0.33239635 ... -0.24093569  0.11275656\n",
      "  -0.00382238]\n",
      " [-0.3131917   0.06994293 -0.12300786 ...  0.53962805 -0.18550482\n",
      "   0.50026651]\n",
      " [ 0.35612418 -0.29208284  0.322591   ...  0.29394496 -0.14081465\n",
      "  -0.39231496]\n",
      " [ 0.13777747 -0.13935867  0.11388003 ...  0.26543261 -0.44351913\n",
      "   0.16392269]]\n"
     ]
    }
   ],
   "source": [
    "X = np.random.rand(5, 10) #58. 减去一个矩阵中的每一行的平均值\n",
    "# # Recent versions of numpy\n",
    "Y = X - X.mean(axis=1, keepdims=True)\n",
    "print(Y)"
   ]
  },
  {
   "cell_type": "code",
   "execution_count": 147,
   "metadata": {},
   "outputs": [
    {
     "name": "stdout",
     "output_type": "stream",
     "text": [
      "[[ 0.06710795 -0.29135948  0.31109006 ... -0.36934687  0.19916892\n",
      "   0.14928427]\n",
      " [ 0.25137427  0.31998427  0.33239635 ... -0.24093569  0.11275656\n",
      "  -0.00382238]\n",
      " [-0.3131917   0.06994293 -0.12300786 ...  0.53962805 -0.18550482\n",
      "   0.50026651]\n",
      " [ 0.35612418 -0.29208284  0.322591   ...  0.29394496 -0.14081465\n",
      "  -0.39231496]\n",
      " [ 0.13777747 -0.13935867  0.11388003 ...  0.26543261 -0.44351913\n",
      "   0.16392269]]\n"
     ]
    }
   ],
   "source": [
    "# # 方法2\n",
    "# # Older versions of numpy\n",
    "Y = X - X.mean(axis=1).reshape(-1, 1)\n",
    "print (Y)"
   ]
  },
  {
   "cell_type": "code",
   "execution_count": 3,
   "metadata": {},
   "outputs": [
    {
     "name": "stdout",
     "output_type": "stream",
     "text": [
      "[[4 5 0]\n",
      " [1 4 2]\n",
      " [0 7 3]]\n",
      "[[0 7 3]\n",
      " [1 4 2]\n",
      " [4 5 0]]\n"
     ]
    }
   ],
   "source": [
    "import numpy as np #59. 如何通过第n列对一个数组进行排序?\n",
    "Z = np.random.randint(0,10,(3,3))\n",
    "print (Z)\n",
    "print (Z[Z[:,0].argsort()])"
   ]
  },
  {
   "cell_type": "code",
   "execution_count": 4,
   "metadata": {},
   "outputs": [
    {
     "name": "stdout",
     "output_type": "stream",
     "text": [
      "True\n"
     ]
    }
   ],
   "source": [
    "Z = np.random.randint(0,3,(3,10)) #60. 如何检查一个二维数组是否有空列？\n",
    "print ((~Z.any(axis=0)).any())"
   ]
  },
  {
   "cell_type": "code",
   "execution_count": 5,
   "metadata": {},
   "outputs": [
    {
     "name": "stdout",
     "output_type": "stream",
     "text": [
      "0.5251998133168997\n"
     ]
    }
   ],
   "source": [
    "Z = np.random.uniform(0,1,10) #61. 从数组中的给定值中找出最近的值 \n",
    "z = 0.5\n",
    "m = Z.flat[np.abs(Z - z).argmin()]\n",
    "print (m)"
   ]
  },
  {
   "cell_type": "code",
   "execution_count": 6,
   "metadata": {},
   "outputs": [
    {
     "name": "stdout",
     "output_type": "stream",
     "text": [
      "[[0 1 2]\n",
      " [1 2 3]\n",
      " [2 3 4]]\n"
     ]
    }
   ],
   "source": [
    "A = np.arange(3).reshape(3,1) #62. 如何用迭代器(iterator)计算两个分别具有形状(1,3)和(3,1)的数组?\n",
    "B = np.arange(3).reshape(1,3)\n",
    "it = np.nditer([A,B,None])\n",
    "for x,y,z in it: \n",
    "    z[...] = x + y\n",
    "print (it.operands[2])"
   ]
  },
  {
   "cell_type": "code",
   "execution_count": 7,
   "metadata": {},
   "outputs": [
    {
     "name": "stdout",
     "output_type": "stream",
     "text": [
      "range_10\n"
     ]
    }
   ],
   "source": [
    "class NamedArray(np.ndarray): #（再看）63. 创建一个具有name属性的数组类\n",
    "    def __new__(cls, array, name=\"no name\"):\n",
    "        obj = np.asarray(array).view(cls)\n",
    "        obj.name = name\n",
    "        return obj\n",
    "    def __array_finalize__(self, obj):\n",
    "        if obj is None: return\n",
    "        self.info = getattr(obj, 'name', \"no name\")\n",
    "\n",
    "Z = NamedArray(np.arange(10), \"range_10\")\n",
    "print (Z.name)"
   ]
  },
  {
   "cell_type": "code",
   "execution_count": 12,
   "metadata": {},
   "outputs": [
    {
     "name": "stdout",
     "output_type": "stream",
     "text": [
      "[3. 4. 3. 4. 2. 4. 4. 2. 2. 2.]\n"
     ]
    }
   ],
   "source": [
    "Z = np.ones(10) #（有难度！！！）64. 考虑一个给定的向量，如何对由第二个向量索引的每个元素加1(小心重复的索引)?\n",
    "I = np.random.randint(0,len(Z),20)\n",
    "Z += np.bincount(I, minlength=len(Z))\n",
    "print(Z)"
   ]
  },
  {
   "cell_type": "code",
   "execution_count": 18,
   "metadata": {},
   "outputs": [
    {
     "name": "stdout",
     "output_type": "stream",
     "text": [
      "[13. 19. 13. 19.  7. 19. 19.  7.  7.  7.]\n"
     ]
    }
   ],
   "source": [
    "# # 方法2\n",
    "np.add.at(Z, I, 1)\n",
    "print(Z)"
   ]
  },
  {
   "cell_type": "code",
   "execution_count": 19,
   "metadata": {},
   "outputs": [
    {
     "name": "stdout",
     "output_type": "stream",
     "text": [
      "[0. 7. 0. 6. 5. 0. 0. 0. 0. 3.]\n"
     ]
    }
   ],
   "source": [
    "X = [1,2,3,4,5,6] #65. 根据索引列表(I)，如何将向量(X)的元素累加到数组(F)?\n",
    "I = [1,3,9,3,4,1]\n",
    "F = np.bincount(I,X)\n",
    "print (F)"
   ]
  },
  {
   "cell_type": "code",
   "execution_count": 21,
   "metadata": {},
   "outputs": [
    {
     "name": "stdout",
     "output_type": "stream",
     "text": [
      "8\n"
     ]
    }
   ],
   "source": [
    "w,h = 16,16 #66. 考虑一个(dtype=ubyte) 的 (w,h,3)图像，计算其唯一颜色的数量\n",
    "I = np.random.randint(0,2,(h,w,3)).astype(np.ubyte) \n",
    "# #Note that we should compute 256*256 first. \n",
    "# #Otherwise numpy will only promote F.dtype to 'uint16' and overfolw will occur\n",
    "F = I[...,0]*(256*256) + I[...,1]*256 +I[...,2]\n",
    "n = len(np.unique(F))\n",
    "print (n)"
   ]
  },
  {
   "cell_type": "code",
   "execution_count": 22,
   "metadata": {},
   "outputs": [
    {
     "name": "stdout",
     "output_type": "stream",
     "text": [
      "[[50 56 53 49]\n",
      " [42 50 58 57]\n",
      " [44 51 65 51]]\n"
     ]
    }
   ],
   "source": [
    "A = np.random.randint(0,10,(3,4,3,4)) #67. 考虑一个四维数组，如何一次性计算出最后两个轴(axis)的和？\n",
    "# # solution by passing a tuple of axes (introduced in numpy 1.7.0)\n",
    "sum = A.sum(axis=(-2,-1))\n",
    "print (sum)"
   ]
  },
  {
   "cell_type": "code",
   "execution_count": 23,
   "metadata": {},
   "outputs": [
    {
     "name": "stdout",
     "output_type": "stream",
     "text": [
      "[[50 56 53 49]\n",
      " [42 50 58 57]\n",
      " [44 51 65 51]]\n"
     ]
    }
   ],
   "source": [
    "# # 方法2\n",
    "sum = A.reshape(A.shape[:-2] + (-1,)).sum(axis=-1)\n",
    "print (sum)"
   ]
  },
  {
   "cell_type": "code",
   "execution_count": 24,
   "metadata": {},
   "outputs": [
    {
     "name": "stdout",
     "output_type": "stream",
     "text": [
      "[0.39598072 0.31095465 0.50924856 0.39710371 0.28940303 0.40746553\n",
      " 0.42750716 0.56812746 0.51911154 0.5383431 ]\n"
     ]
    }
   ],
   "source": [
    "D = np.random.uniform(0,1,100) #68. 考虑一个一维向量D，如何使用相同大小的向量S来计算D子集的均值？\n",
    "S = np.random.randint(0,10,100)\n",
    "D_sums = np.bincount(S, weights=D)\n",
    "D_counts = np.bincount(S)\n",
    "D_means = D_sums / D_counts\n",
    "print (D_means)"
   ]
  },
  {
   "cell_type": "code",
   "execution_count": 25,
   "metadata": {},
   "outputs": [
    {
     "name": "stdout",
     "output_type": "stream",
     "text": [
      "0    0.395981\n",
      "1    0.310955\n",
      "2    0.509249\n",
      "3    0.397104\n",
      "4    0.289403\n",
      "5    0.407466\n",
      "6    0.427507\n",
      "7    0.568127\n",
      "8    0.519112\n",
      "9    0.538343\n",
      "dtype: float64\n"
     ]
    }
   ],
   "source": [
    "# # 方法2\n",
    "import pandas as pd\n",
    "print(pd.Series(D).groupby(S).mean())"
   ]
  },
  {
   "cell_type": "code",
   "execution_count": 28,
   "metadata": {},
   "outputs": [
    {
     "data": {
      "text/plain": [
       "array([0.78542674, 2.70956547, 0.88696658, 0.64639284, 1.20918784])"
      ]
     },
     "execution_count": 28,
     "metadata": {},
     "output_type": "execute_result"
    }
   ],
   "source": [
    "A = np.random.uniform(0,1,(5,5)) #69. 如何获得点积 dot prodcut的对角线?\n",
    "B = np.random.uniform(0,1,(5,5))\n",
    "# # slow version\n",
    "np.diag(np.dot(A, B))\n",
    "\n",
    "## 方法2\n",
    "# # Fast version\n",
    "np.sum(A * B.T, axis=1)"
   ]
  },
  {
   "cell_type": "code",
   "execution_count": 29,
   "metadata": {},
   "outputs": [
    {
     "data": {
      "text/plain": [
       "array([0.78542674, 2.70956547, 0.88696658, 0.64639284, 1.20918784])"
      ]
     },
     "execution_count": 29,
     "metadata": {},
     "output_type": "execute_result"
    }
   ],
   "source": [
    "## 方法3\n",
    "# # Faster version\n",
    "np.einsum(\"ij,ji->i\", A, B)"
   ]
  },
  {
   "cell_type": "code",
   "execution_count": 30,
   "metadata": {},
   "outputs": [
    {
     "name": "stdout",
     "output_type": "stream",
     "text": [
      "[1. 0. 0. 0. 2. 0. 0. 0. 3. 0. 0. 0. 4. 0. 0. 0. 5.]\n"
     ]
    }
   ],
   "source": [
    "Z = np.array([1,2,3,4,5]) #70. 考虑一个向量[1,2,3,4,5],如何建立一个新的向量，在这个新向量中每个值之间有3个连续的零？\n",
    "nz = 3\n",
    "Z0 = np.zeros(len(Z) + (len(Z)-1)*(nz))\n",
    "Z0[::nz+1] = Z\n",
    "print (Z0)"
   ]
  },
  {
   "cell_type": "code",
   "execution_count": 31,
   "metadata": {},
   "outputs": [
    {
     "name": "stdout",
     "output_type": "stream",
     "text": [
      "[[[2. 2. 2.]\n",
      "  [2. 2. 2.]\n",
      "  [2. 2. 2.]\n",
      "  [2. 2. 2.]\n",
      "  [2. 2. 2.]]\n",
      "\n",
      " [[2. 2. 2.]\n",
      "  [2. 2. 2.]\n",
      "  [2. 2. 2.]\n",
      "  [2. 2. 2.]\n",
      "  [2. 2. 2.]]\n",
      "\n",
      " [[2. 2. 2.]\n",
      "  [2. 2. 2.]\n",
      "  [2. 2. 2.]\n",
      "  [2. 2. 2.]\n",
      "  [2. 2. 2.]]\n",
      "\n",
      " [[2. 2. 2.]\n",
      "  [2. 2. 2.]\n",
      "  [2. 2. 2.]\n",
      "  [2. 2. 2.]\n",
      "  [2. 2. 2.]]\n",
      "\n",
      " [[2. 2. 2.]\n",
      "  [2. 2. 2.]\n",
      "  [2. 2. 2.]\n",
      "  [2. 2. 2.]\n",
      "  [2. 2. 2.]]]\n"
     ]
    }
   ],
   "source": [
    "A = np.ones((5,5,3))\n",
    "B = 2*np.ones((5,5))\n",
    "print (A * B[:,:,None])"
   ]
  },
  {
   "cell_type": "code",
   "execution_count": 32,
   "metadata": {},
   "outputs": [
    {
     "name": "stdout",
     "output_type": "stream",
     "text": [
      "[[ 5  6  7  8  9]\n",
      " [ 0  1  2  3  4]\n",
      " [10 11 12 13 14]\n",
      " [15 16 17 18 19]\n",
      " [20 21 22 23 24]]\n"
     ]
    }
   ],
   "source": [
    "A = np.arange(25).reshape(5,5) #72. 如何对一个数组中任意两行做交换?\n",
    "A[[0,1]] = A[[1,0]]\n",
    "print (A)"
   ]
  },
  {
   "cell_type": "code",
   "execution_count": 33,
   "metadata": {},
   "outputs": [
    {
     "name": "stdout",
     "output_type": "stream",
     "text": [
      "[( 0,  9) ( 7, 17) ( 7, 79) ( 8, 33) ( 8, 51) ( 9,  9) (11, 25) (11, 90)\n",
      " (15, 54) (15, 63) (17, 79) (18, 48) (18, 69) (23, 51) (23, 99) (25, 90)\n",
      " (33, 47) (33, 51) (33, 65) (39, 44) (39, 78) (44, 78) (47, 65) (48, 69)\n",
      " (49, 66) (49, 69) (51, 99) (54, 63) (66, 69)]\n"
     ]
    }
   ],
   "source": [
    "faces = np.random.randint(0,100,(10,3)) #（有难度！！！）73. 考虑一个可以描述10个三角形的triplets，找到可以分割全部三角形的line segment\n",
    "F = np.roll(faces.repeat(2,axis=1),-1,axis=1)\n",
    "F = F.reshape(len(F)*3,2)\n",
    "F = np.sort(F,axis=1)\n",
    "G = F.view( dtype=[('p0',F.dtype),('p1',F.dtype)] )\n",
    "G = np.unique(G)\n",
    "print (G)"
   ]
  },
  {
   "cell_type": "code",
   "execution_count": 34,
   "metadata": {},
   "outputs": [
    {
     "name": "stdout",
     "output_type": "stream",
     "text": [
      "[1 1 2 3 4 4 6]\n"
     ]
    }
   ],
   "source": [
    "C = np.bincount([1,1,2,3,4,4,6]) #74. 给定一个二进制的数组C，如何产生一个数组A满足np.bincount(A)==C(★★★)\n",
    "A = np.repeat(np.arange(len(C)), C)\n",
    "print (A)"
   ]
  },
  {
   "cell_type": "code",
   "execution_count": 35,
   "metadata": {},
   "outputs": [
    {
     "name": "stdout",
     "output_type": "stream",
     "text": [
      "[ 1.  2.  3.  4.  5.  6.  7.  8.  9. 10. 11. 12. 13. 14. 15. 16. 17. 18.]\n"
     ]
    }
   ],
   "source": [
    "def moving_average(a, n=3) : #75. 如何通过滑动窗口计算一个数组的平均数? (★★★)\n",
    "(提示: np.cumsum)\n",
    "    ret = np.cumsum(a, dtype=float)\n",
    "    ret[n:] = ret[n:] - ret[:-n]\n",
    "    return ret[n - 1:] / n\n",
    "Z = np.arange(20)\n",
    "\n",
    "print(moving_average(Z, n=3))"
   ]
  },
  {
   "cell_type": "code",
   "execution_count": 40,
   "metadata": {},
   "outputs": [
    {
     "name": "stdout",
     "output_type": "stream",
     "text": [
      "[[0 1 2]\n",
      " [1 2 3]\n",
      " [2 3 4]\n",
      " [3 4 5]\n",
      " [4 5 6]\n",
      " [5 6 7]\n",
      " [6 7 8]\n",
      " [7 8 9]]\n"
     ]
    }
   ],
   "source": [
    "from numpy.lib import stride_tricks \n",
    "#76. Consider a one-dimensional array Z, build a two-dimensional array whose first row is (Z[0],Z[1],Z[2]) and each subsequent row is shifted by 1 (last row should be (Z[-3],Z[-2],Z[-1]) (★★★)\n",
    "def rolling(a, window):\n",
    "    shape = (a.size - window + 1, window)\n",
    "    strides = (a.itemsize, a.itemsize)\n",
    "    return stride_tricks.as_strided(a, shape=shape, strides=strides)\n",
    "Z = rolling(np.arange(10), 3)\n",
    "\n",
    "print (Z)"
   ]
  },
  {
   "cell_type": "code",
   "execution_count": 42,
   "metadata": {},
   "outputs": [
    {
     "data": {
      "text/plain": [
       "array([0, 1, 1, 1, 0, 0, 0, 0, 0, 0, 1, 1, 0, 0, 1, 1, 1, 1, 1, 1, 1, 0,\n",
       "       1, 0, 1, 1, 1, 0, 1, 0, 1, 1, 1, 0, 1, 1, 0, 0, 0, 1, 1, 0, 0, 1,\n",
       "       1, 1, 1, 1, 1, 0, 0, 0, 1, 0, 0, 1, 0, 0, 1, 1, 1, 1, 1, 0, 1, 0,\n",
       "       0, 1, 1, 1, 0, 1, 1, 1, 0, 1, 1, 0, 1, 1, 1, 1, 0, 0, 0, 0, 0, 0,\n",
       "       1, 1, 1, 1, 0, 1, 1, 1, 0, 1, 1, 1])"
      ]
     },
     "execution_count": 42,
     "metadata": {},
     "output_type": "execute_result"
    }
   ],
   "source": [
    "Z = np.random.randint(0,2,100) #77. 如何对布尔值取反，或者原位(in-place)改变浮点数的符号(sign)？(★★★)\n",
    "np.logical_not(Z, out=Z)"
   ]
  },
  {
   "cell_type": "code",
   "execution_count": 43,
   "metadata": {},
   "outputs": [
    {
     "data": {
      "text/plain": [
       "array([ 0.23390331, -0.48455722, -0.02018038, -0.91007166, -0.76019922,\n",
       "       -0.72942753,  0.79202314,  0.68922977,  0.21363167, -0.13315102,\n",
       "        0.13932492,  0.90441536, -0.15937537, -0.72956232, -0.49318993,\n",
       "       -0.74990533, -0.52426754,  0.62456638, -0.27716172, -0.97251127,\n",
       "       -0.18653684, -0.02444109, -0.15955275, -0.11836623,  0.00908752,\n",
       "        0.66084474,  0.0911753 ,  0.16174356, -0.37750537, -0.97674292,\n",
       "        0.09016355, -0.96274921, -0.90136638,  0.31562259,  0.08972511,\n",
       "       -0.58786755,  0.31203781,  0.69784146, -0.38635619, -0.96567208,\n",
       "        0.06825108, -0.82099522,  0.26533379, -0.20634368, -0.57126868,\n",
       "        0.90439878,  0.75456208, -0.425159  , -0.42676042, -0.59220951,\n",
       "        0.98114764, -0.58532004, -0.56617453,  0.69781361,  0.1320131 ,\n",
       "        0.28813971, -0.37250849,  0.72600734, -0.0610061 ,  0.95705977,\n",
       "        0.07642949,  0.60841656,  0.54592347,  0.72867942, -0.85002505,\n",
       "        0.44967138, -0.40752284, -0.98525709, -0.03762063,  0.35733709,\n",
       "        0.85285176,  0.13823987, -0.10273592, -0.87321083, -0.38697882,\n",
       "       -0.12277769, -0.04391414, -0.52498207,  0.63462495,  0.83341175,\n",
       "        0.80958672, -0.3259487 ,  0.75311554,  0.58267694, -0.86139191,\n",
       "        0.7028698 ,  0.61110124,  0.49344298, -0.11075676,  0.67984485,\n",
       "        0.15385259,  0.33866675, -0.75985658,  0.3928275 , -0.17358636,\n",
       "        0.45810405, -0.54813493, -0.88949406,  0.97587578, -0.03598505])"
      ]
     },
     "execution_count": 43,
     "metadata": {},
     "output_type": "execute_result"
    }
   ],
   "source": [
    "Z = np.random.uniform(-1.0,1.0,100)\n",
    "np.negative(Z, out=Z)"
   ]
  },
  {
   "cell_type": "code",
   "execution_count": 2,
   "metadata": {},
   "outputs": [
    {
     "name": "stdout",
     "output_type": "stream",
     "text": [
      "[ 5.2704922   5.19988554  0.39302378  1.40586523  1.21207801 13.95369216\n",
      " 10.87267294  0.08666495  5.94860613 13.03608933]\n"
     ]
    }
   ],
   "source": [
    "import numpy as np \n",
    "#78. 考虑两组点集P0和P1去描述一组线(二维)和一个点p,如何计算点p到每一条线 i (P0[i],P1[i])的距离？(★★★)\n",
    "def distance(P0, P1, p):\n",
    "    T = P1 - P0\n",
    "    L = (T**2).sum(axis=1)\n",
    "    U = -((P0[:,0]-p[...,0])*T[:,0] + (P0[:,1]-p[...,1])*T[:,1]) / L\n",
    "    U = U.reshape(len(U),1)\n",
    "    D = P0 + U*T - p\n",
    "    return np.sqrt((D**2).sum(axis=1))\n",
    "\n",
    "P0 = np.random.uniform(-10,10,(10,2))\n",
    "P1 = np.random.uniform(-10,10,(10,2))\n",
    "p  = np.random.uniform(-10,10,( 1,2))\n",
    "\n",
    "print (distance(P0, P1, p))"
   ]
  },
  {
   "cell_type": "code",
   "execution_count": 3,
   "metadata": {},
   "outputs": [
    {
     "name": "stdout",
     "output_type": "stream",
     "text": [
      "[[ 4.61236027  9.03421525  5.89612417 10.32524001  5.51791901  7.13178788\n",
      "   1.94057181  6.30288014  7.5271265   7.47703214]\n",
      " [ 2.4242662  10.12109254  4.76749933  1.48479986  2.68628866  0.12144798\n",
      "   8.24561998 12.20454894  4.08675704  4.83605747]\n",
      " [ 3.75876552  7.03302726  6.00942089  9.88743856  4.92281901  6.32358481\n",
      "   4.03918357  4.04102353  9.34196259  8.56194958]\n",
      " [ 9.63859538  4.71399271  5.18076155  2.83371096  8.10577197  7.02197121\n",
      "   6.24241405  4.01054375  8.110641    1.82084978]\n",
      " [ 5.86507164  7.71008941  8.04110446  1.96261527  6.14605277  3.56930789\n",
      "   8.62696702 10.98261059  5.31877498  7.29987656]\n",
      " [13.19436594  1.42093145 14.25346546  8.96281872 13.29935695 10.87487392\n",
      "   7.63624296  6.7694922   6.1998739  11.15369058]\n",
      " [ 6.88544713  4.22554233  1.61116046  0.35335712  5.06719544  4.21477197\n",
      "   8.79959912  5.04407699 11.27379471  5.5339081 ]\n",
      " [ 4.63729646 11.01449889  4.62524902  9.76625891  5.17479347  7.09082656\n",
      "   1.12484998  9.05187171  4.56963065  5.12208197]\n",
      " [ 8.24413121 11.27117304  9.5544663  14.05557935  9.22745092 10.78134851\n",
      "   2.82431251  7.16286038  9.29278986 10.44975593]\n",
      " [ 0.3264292   6.02884794  0.89703635  5.24150876  0.4665109   2.1675755\n",
      "   0.6815166   5.18455275  5.07065768  3.39018068]]\n"
     ]
    }
   ],
   "source": [
    "# # based on distance function from previous question\n",
    "#79.考虑两组点集P0和P1去描述一组线(二维)和一组点集P，如何计算每一个点 j(P[j]) 到每一条线 i (P0[i],P1[i])的距离？(★★★)\n",
    "P0 = np.random.uniform(-10, 10, (10,2))\n",
    "P1 = np.random.uniform(-10,10,(10,2))\n",
    "p = np.random.uniform(-10, 10, (10,2))\n",
    "print (np.array([distance(P0,P1,p_i) for p_i in p]))"
   ]
  },
  {
   "cell_type": "code",
   "execution_count": 8,
   "metadata": {
    "scrolled": true
   },
   "outputs": [
    {
     "name": "stdout",
     "output_type": "stream",
     "text": [
      "[[ 1  2  3  4]\n",
      " [ 2  3  4  5]\n",
      " [ 3  4  5  6]\n",
      " [ 4  5  6  7]\n",
      " [ 5  6  7  8]\n",
      " [ 6  7  8  9]\n",
      " [ 7  8  9 10]\n",
      " [ 8  9 10 11]\n",
      " [ 9 10 11 12]\n",
      " [10 11 12 13]\n",
      " [11 12 13 14]]\n"
     ]
    }
   ],
   "source": [
    "#81. 考虑一个数组Z = [1,2,3,4,5,6,7,8,9,10,11,12,13,14],如何生成一个数组R = [[1,2,3,4], [2,3,4,5], [3,4,5,6], ...,[11,12,13,14]]? (★★★)\n",
    "Z = np.arange(1,15,dtype=np.uint32) \n",
    "#??? NameError: name 'stride_tricks' is not defined.原代码有点问题，需要改成：（加个：np.lib.）np.lib.stride_tricks.as_strided\n",
    "R = np.lib.stride_tricks.as_strided(Z,(11,4),(4,4))\n",
    "print (R)"
   ]
  },
  {
   "cell_type": "code",
   "execution_count": 9,
   "metadata": {},
   "outputs": [
    {
     "name": "stdout",
     "output_type": "stream",
     "text": [
      "10\n"
     ]
    }
   ],
   "source": [
    "Z = np.random.uniform(0,1,(10,10)) #82. 计算一个矩阵的秩\n",
    "U, S, V = np.linalg.svd(Z) # Singular Value Decomposition\n",
    "rank = np.sum(S > 1e-10)\n",
    "print (rank)"
   ]
  },
  {
   "cell_type": "code",
   "execution_count": 12,
   "metadata": {},
   "outputs": [
    {
     "name": "stdout",
     "output_type": "stream",
     "text": [
      "7\n"
     ]
    }
   ],
   "source": [
    "#83. 如何找到一个数组中出现频率最高的值？\n",
    "Z = np.random.randint(0,10,50)\n",
    "print (np.bincount(Z).argmax())"
   ]
  },
  {
   "cell_type": "code",
   "execution_count": 14,
   "metadata": {},
   "outputs": [
    {
     "name": "stdout",
     "output_type": "stream",
     "text": [
      "[[[[3 0 2]\n",
      "   [3 3 0]\n",
      "   [2 1 4]]\n",
      "\n",
      "  [[0 2 2]\n",
      "   [3 0 1]\n",
      "   [1 4 0]]\n",
      "\n",
      "  [[2 2 1]\n",
      "   [0 1 1]\n",
      "   [4 0 3]]\n",
      "\n",
      "  [[2 1 3]\n",
      "   [1 1 3]\n",
      "   [0 3 3]]\n",
      "\n",
      "  [[1 3 1]\n",
      "   [1 3 4]\n",
      "   [3 3 0]]\n",
      "\n",
      "  [[3 1 3]\n",
      "   [3 4 1]\n",
      "   [3 0 2]]\n",
      "\n",
      "  [[1 3 1]\n",
      "   [4 1 3]\n",
      "   [0 2 1]]\n",
      "\n",
      "  [[3 1 2]\n",
      "   [1 3 1]\n",
      "   [2 1 0]]]\n",
      "\n",
      "\n",
      " [[[3 3 0]\n",
      "   [2 1 4]\n",
      "   [4 0 4]]\n",
      "\n",
      "  [[3 0 1]\n",
      "   [1 4 0]\n",
      "   [0 4 3]]\n",
      "\n",
      "  [[0 1 1]\n",
      "   [4 0 3]\n",
      "   [4 3 4]]\n",
      "\n",
      "  [[1 1 3]\n",
      "   [0 3 3]\n",
      "   [3 4 1]]\n",
      "\n",
      "  [[1 3 4]\n",
      "   [3 3 0]\n",
      "   [4 1 3]]\n",
      "\n",
      "  [[3 4 1]\n",
      "   [3 0 2]\n",
      "   [1 3 2]]\n",
      "\n",
      "  [[4 1 3]\n",
      "   [0 2 1]\n",
      "   [3 2 0]]\n",
      "\n",
      "  [[1 3 1]\n",
      "   [2 1 0]\n",
      "   [2 0 2]]]\n",
      "\n",
      "\n",
      " [[[2 1 4]\n",
      "   [4 0 4]\n",
      "   [1 3 2]]\n",
      "\n",
      "  [[1 4 0]\n",
      "   [0 4 3]\n",
      "   [3 2 3]]\n",
      "\n",
      "  [[4 0 3]\n",
      "   [4 3 4]\n",
      "   [2 3 0]]\n",
      "\n",
      "  [[0 3 3]\n",
      "   [3 4 1]\n",
      "   [3 0 0]]\n",
      "\n",
      "  [[3 3 0]\n",
      "   [4 1 3]\n",
      "   [0 0 4]]\n",
      "\n",
      "  [[3 0 2]\n",
      "   [1 3 2]\n",
      "   [0 4 3]]\n",
      "\n",
      "  [[0 2 1]\n",
      "   [3 2 0]\n",
      "   [4 3 0]]\n",
      "\n",
      "  [[2 1 0]\n",
      "   [2 0 2]\n",
      "   [3 0 0]]]\n",
      "\n",
      "\n",
      " [[[4 0 4]\n",
      "   [1 3 2]\n",
      "   [1 4 3]]\n",
      "\n",
      "  [[0 4 3]\n",
      "   [3 2 3]\n",
      "   [4 3 4]]\n",
      "\n",
      "  [[4 3 4]\n",
      "   [2 3 0]\n",
      "   [3 4 4]]\n",
      "\n",
      "  [[3 4 1]\n",
      "   [3 0 0]\n",
      "   [4 4 4]]\n",
      "\n",
      "  [[4 1 3]\n",
      "   [0 0 4]\n",
      "   [4 4 2]]\n",
      "\n",
      "  [[1 3 2]\n",
      "   [0 4 3]\n",
      "   [4 2 2]]\n",
      "\n",
      "  [[3 2 0]\n",
      "   [4 3 0]\n",
      "   [2 2 3]]\n",
      "\n",
      "  [[2 0 2]\n",
      "   [3 0 0]\n",
      "   [2 3 3]]]\n",
      "\n",
      "\n",
      " [[[1 3 2]\n",
      "   [1 4 3]\n",
      "   [4 1 3]]\n",
      "\n",
      "  [[3 2 3]\n",
      "   [4 3 4]\n",
      "   [1 3 0]]\n",
      "\n",
      "  [[2 3 0]\n",
      "   [3 4 4]\n",
      "   [3 0 4]]\n",
      "\n",
      "  [[3 0 0]\n",
      "   [4 4 4]\n",
      "   [0 4 0]]\n",
      "\n",
      "  [[0 0 4]\n",
      "   [4 4 2]\n",
      "   [4 0 1]]\n",
      "\n",
      "  [[0 4 3]\n",
      "   [4 2 2]\n",
      "   [0 1 1]]\n",
      "\n",
      "  [[4 3 0]\n",
      "   [2 2 3]\n",
      "   [1 1 0]]\n",
      "\n",
      "  [[3 0 0]\n",
      "   [2 3 3]\n",
      "   [1 0 3]]]\n",
      "\n",
      "\n",
      " [[[1 4 3]\n",
      "   [4 1 3]\n",
      "   [3 4 3]]\n",
      "\n",
      "  [[4 3 4]\n",
      "   [1 3 0]\n",
      "   [4 3 3]]\n",
      "\n",
      "  [[3 4 4]\n",
      "   [3 0 4]\n",
      "   [3 3 3]]\n",
      "\n",
      "  [[4 4 4]\n",
      "   [0 4 0]\n",
      "   [3 3 3]]\n",
      "\n",
      "  [[4 4 2]\n",
      "   [4 0 1]\n",
      "   [3 3 0]]\n",
      "\n",
      "  [[4 2 2]\n",
      "   [0 1 1]\n",
      "   [3 0 1]]\n",
      "\n",
      "  [[2 2 3]\n",
      "   [1 1 0]\n",
      "   [0 1 3]]\n",
      "\n",
      "  [[2 3 3]\n",
      "   [1 0 3]\n",
      "   [1 3 1]]]\n",
      "\n",
      "\n",
      " [[[4 1 3]\n",
      "   [3 4 3]\n",
      "   [0 2 4]]\n",
      "\n",
      "  [[1 3 0]\n",
      "   [4 3 3]\n",
      "   [2 4 3]]\n",
      "\n",
      "  [[3 0 4]\n",
      "   [3 3 3]\n",
      "   [4 3 0]]\n",
      "\n",
      "  [[0 4 0]\n",
      "   [3 3 3]\n",
      "   [3 0 0]]\n",
      "\n",
      "  [[4 0 1]\n",
      "   [3 3 0]\n",
      "   [0 0 3]]\n",
      "\n",
      "  [[0 1 1]\n",
      "   [3 0 1]\n",
      "   [0 3 1]]\n",
      "\n",
      "  [[1 1 0]\n",
      "   [0 1 3]\n",
      "   [3 1 0]]\n",
      "\n",
      "  [[1 0 3]\n",
      "   [1 3 1]\n",
      "   [1 0 4]]]\n",
      "\n",
      "\n",
      " [[[3 4 3]\n",
      "   [0 2 4]\n",
      "   [3 0 2]]\n",
      "\n",
      "  [[4 3 3]\n",
      "   [2 4 3]\n",
      "   [0 2 0]]\n",
      "\n",
      "  [[3 3 3]\n",
      "   [4 3 0]\n",
      "   [2 0 0]]\n",
      "\n",
      "  [[3 3 3]\n",
      "   [3 0 0]\n",
      "   [0 0 0]]\n",
      "\n",
      "  [[3 3 0]\n",
      "   [0 0 3]\n",
      "   [0 0 0]]\n",
      "\n",
      "  [[3 0 1]\n",
      "   [0 3 1]\n",
      "   [0 0 4]]\n",
      "\n",
      "  [[0 1 3]\n",
      "   [3 1 0]\n",
      "   [0 4 4]]\n",
      "\n",
      "  [[1 3 1]\n",
      "   [1 0 4]\n",
      "   [4 4 4]]]]\n"
     ]
    }
   ],
   "source": [
    "Z = np.random.randint(0,5,(10,10)) #84. 从一个10x10的矩阵中提取出连续的3x3区块(★★★)\n",
    "n = 3\n",
    "i = 1 + (Z.shape[0]-3)\n",
    "j = 1 + (Z.shape[1]-3)\n",
    "C = np.lib.stride_tricks.as_strided(Z, shape=(i, j, n, n), strides=Z.strides + Z.strides)\n",
    "print (C)"
   ]
  },
  {
   "cell_type": "code",
   "execution_count": 17,
   "metadata": {},
   "outputs": [
    {
     "name": "stdout",
     "output_type": "stream",
     "text": [
      "[[ 8  3  6  8 12]\n",
      " [ 3  0 10 11  7]\n",
      " [ 6 10  1 42  2]\n",
      " [ 8 11 42  9  2]\n",
      " [12  7  2  2  4]]\n"
     ]
    }
   ],
   "source": [
    "class Symetric(np.ndarray): #85. 创建一个满足 Z[i,j] == Z[j,i]的子类 (★★★) (提示: class 方法)\n",
    "    def __setitem__(self, index, value):\n",
    "        i,j = index\n",
    "        super(Symetric, self).__setitem__((i,j), value)\n",
    "        super(Symetric, self).__setitem__((j,i), value)\n",
    "\n",
    "def symetric(Z):\n",
    "    return np.asarray(Z + Z.T - np.diag(Z.diagonal())).view(Symetric)\n",
    "\n",
    "S = symetric(np.random.randint(0,10,(5,5)))\n",
    "S[2,3] = 42\n",
    "print (S)"
   ]
  },
  {
   "cell_type": "code",
   "execution_count": 18,
   "metadata": {},
   "outputs": [
    {
     "name": "stdout",
     "output_type": "stream",
     "text": [
      "[[200.]\n",
      " [200.]\n",
      " [200.]\n",
      " [200.]\n",
      " [200.]\n",
      " [200.]\n",
      " [200.]\n",
      " [200.]\n",
      " [200.]\n",
      " [200.]\n",
      " [200.]\n",
      " [200.]\n",
      " [200.]\n",
      " [200.]\n",
      " [200.]\n",
      " [200.]\n",
      " [200.]\n",
      " [200.]\n",
      " [200.]\n",
      " [200.]]\n"
     ]
    }
   ],
   "source": [
    "p, n = 10, 20 #86. 考虑p个 nxn 矩阵和一组形状为(n,1)的向量，如何直接计算p个矩阵的乘积(n,1)？(★★★)\n",
    "M = np.ones((p,n,n))\n",
    "V = np.ones((p,n,1))\n",
    "S = np.tensordot(M, V, axes=[[0, 2], [0, 1]])\n",
    "print (S)\n",
    "#It works, because:\n",
    "#M is (p,n,n)\n",
    "#V is (p,n,1)\n",
    "#Thus, summing over the paired axes 0 and 0 (of M and V independently),\n",
    "# and 2 and 1, to remain with a (n,1) vector.\n"
   ]
  },
  {
   "cell_type": "code",
   "execution_count": 19,
   "metadata": {},
   "outputs": [
    {
     "name": "stdout",
     "output_type": "stream",
     "text": [
      "[[16. 16. 16. 16.]\n",
      " [16. 16. 16. 16.]\n",
      " [16. 16. 16. 16.]\n",
      " [16. 16. 16. 16.]]\n"
     ]
    }
   ],
   "source": [
    "Z = np.ones((16,16)) \n",
    "#87. 对于一个16x16的数组，如何得到一个区域(block-sum)的和(区域大小为4x4)? (★★★)\n",
    "#(提示: np.add.reduceat)\n",
    "k = 4\n",
    "S = np.add.reduceat(np.add.reduceat(Z, np.arange(0, Z.shape[0], k), axis=0),\n",
    "                                       np.arange(0, Z.shape[1], k), axis=1)\n",
    "print (S)"
   ]
  },
  {
   "cell_type": "code",
   "execution_count": 23,
   "metadata": {},
   "outputs": [
    {
     "name": "stdout",
     "output_type": "stream",
     "text": [
      "[[0 0 0 ... 0 0 0]\n",
      " [0 0 0 ... 0 0 0]\n",
      " [0 0 0 ... 0 0 0]\n",
      " ...\n",
      " [0 1 0 ... 0 0 0]\n",
      " [0 0 1 ... 0 0 0]\n",
      " [0 0 0 ... 0 0 0]]\n"
     ]
    }
   ],
   "source": [
    "def iterate(Z): #88. 如何利用numpy数组实现Game of Life? (★★★)\n",
    "# Count neighbours\n",
    "    N = (Z[0:-2,0:-2] + Z[0:-2,1:-1] + Z[0:-2,2:] +\n",
    "         Z[1:-1,0:-2]                + Z[1:-1,2:] +\n",
    "         Z[2:  ,0:-2] + Z[2:  ,1:-1] + Z[2:  ,2:])\n",
    "\n",
    "# Apply rules\n",
    "    birth = (N==3) & (Z[1:-1,1:-1]==0)\n",
    "    survive = ((N==2) | (N==3)) & (Z[1:-1,1:-1]==1)\n",
    "    Z[...] = 0\n",
    "    Z[1:-1,1:-1][birth | survive] = 1\n",
    "    return Z\n",
    "\n",
    "Z = np.random.randint(0,2,(50,50))\n",
    "for i in range(100): Z = iterate(Z)\n",
    "print (Z)"
   ]
  },
  {
   "cell_type": "code",
   "execution_count": 28,
   "metadata": {},
   "outputs": [
    {
     "name": "stdout",
     "output_type": "stream",
     "text": [
      "[9999 9996 9998 9997 9995]\n"
     ]
    }
   ],
   "source": [
    "#89. 如何找到一个数组的第n个最大值? (★★★)\n",
    "#(提示: np.argsort | np.argpartition)\n",
    "Z = np.arange(10000)\n",
    "np.random.shuffle(Z)\n",
    "n = 5\n",
    "\n",
    "# # 方法1\n",
    "# # Slow\n",
    "#print (Z[np.argsort(Z)[-n:]])\n",
    "\n",
    "# # 方法2\n",
    "# # Fast\n",
    "print (Z[np.argpartition(-Z,n)[:n]])"
   ]
  },
  {
   "cell_type": "code",
   "execution_count": 29,
   "metadata": {},
   "outputs": [
    {
     "name": "stdout",
     "output_type": "stream",
     "text": [
      "[[1 4 6]\n",
      " [1 4 7]\n",
      " [1 5 6]\n",
      " [1 5 7]\n",
      " [2 4 6]\n",
      " [2 4 7]\n",
      " [2 5 6]\n",
      " [2 5 7]\n",
      " [3 4 6]\n",
      " [3 4 7]\n",
      " [3 5 6]\n",
      " [3 5 7]]\n"
     ]
    }
   ],
   "source": [
    "#90. 给定任意个数向量，创建笛卡尔积(每一个元素的每一种组合)(★★★)\n",
    "#(提示: np.indices)\n",
    "def cartesian(arrays):\n",
    "    arrays = [np.asarray(a) for a in arrays]\n",
    "    shape = (len(x) for x in arrays)\n",
    "\n",
    "    ix = np.indices(shape, dtype=int)\n",
    "    ix = ix.reshape(len(arrays), -1).T\n",
    "\n",
    "    for n, arr in enumerate(arrays):\n",
    "        ix[:, n] = arrays[n][ix[:, n]]\n",
    "\n",
    "    return ix\n",
    "\n",
    "print (cartesian(([1, 2, 3], [4, 5], [6, 7])))"
   ]
  },
  {
   "cell_type": "code",
   "execution_count": 30,
   "metadata": {},
   "outputs": [
    {
     "name": "stdout",
     "output_type": "stream",
     "text": [
      "[(b'Hello', 2.5, 3) (b'World', 3.6, 2)]\n"
     ]
    }
   ],
   "source": [
    "#91. 如何从一个正常数组创建记录数组(record array)? (★★★)\n",
    "#(提示: np.core.records.fromarrays)\n",
    "Z = np.array([(\"Hello\", 2.5, 3),\n",
    "              (\"World\", 3.6, 2)])\n",
    "R = np.core.records.fromarrays(Z.T, \n",
    "                               names='col1, col2, col3',\n",
    "                               formats = 'S8, f8, i8')\n",
    "print (R)\n"
   ]
  },
  {
   "cell_type": "code",
   "execution_count": 36,
   "metadata": {
    "scrolled": true
   },
   "outputs": [
    {
     "data": {
      "text/plain": [
       "0.00011313160622820567"
      ]
     },
     "execution_count": 36,
     "metadata": {},
     "output_type": "execute_result"
    }
   ],
   "source": [
    "#92. 考虑一个大向量Z, 用三种不同的方法计算它的立方(★★★)\n",
    "#(提示: np.power, \\*, np.einsum)\n",
    "x = np.random.rand()\n",
    "np.power(x,3)\n",
    "\n",
    "## 方法2\n",
    "# x*x*x\n",
    "\n",
    "## 方法3 ???这个方法的代码有点问题！\n",
    "#np.einsum('i,i,i->i',x,x,x)\n"
   ]
  },
  {
   "cell_type": "code",
   "execution_count": 37,
   "metadata": {},
   "outputs": [
    {
     "name": "stdout",
     "output_type": "stream",
     "text": [
      "[0 1 3 4 5 6]\n"
     ]
    }
   ],
   "source": [
    "#93. 考虑两个形状分别为(8,3) 和(2,2)的数组A和B. 如何在数组A中找到满足包含B中元素的行？(不考虑B中每行元素顺序)？ (★★★)\n",
    "#(提示: np.where)\n",
    "A = np.random.randint(0,5,(8,3))\n",
    "B = np.random.randint(0,5,(2,2))\n",
    "\n",
    "C = (A[..., np.newaxis, np.newaxis] == B)\n",
    "rows = np.where(C.any((3,1)).all(1))[0]\n",
    "print (rows)"
   ]
  },
  {
   "cell_type": "code",
   "execution_count": 39,
   "metadata": {},
   "outputs": [
    {
     "name": "stdout",
     "output_type": "stream",
     "text": [
      "[[3 3 2]\n",
      " [0 0 4]\n",
      " [0 0 0]\n",
      " [4 4 3]\n",
      " [0 3 3]\n",
      " [3 0 0]\n",
      " [4 1 4]\n",
      " [1 3 0]\n",
      " [3 1 4]\n",
      " [4 4 4]]\n",
      "[[3 3 2]\n",
      " [0 0 4]\n",
      " [4 4 3]\n",
      " [0 3 3]\n",
      " [3 0 0]\n",
      " [4 1 4]\n",
      " [1 3 0]\n",
      " [3 1 4]]\n"
     ]
    }
   ],
   "source": [
    "#94. 考虑一个10x3的矩阵，分解出有不全相同值的行 (如 [2,2,3]) (★★★)\n",
    "Z = np.random.randint(0,5,(10,3))\n",
    "print (Z)\n",
    "\n",
    "# # solution for arrays of all dtypes (including string arrays and record arrays)\n",
    "E = np.all(Z[:,1:] == Z[:,:-1], axis=1)\n",
    "U = Z[~E]\n",
    "print (U)\n",
    "\n",
    "# # 方法2\n",
    "# # soluiton for numerical arrays only, will work for any number of columns in Z\n",
    "# U = Z[Z.max(axis=1) != Z.min(axis=1),:]\n",
    "# print (U)"
   ]
  },
  {
   "cell_type": "code",
   "execution_count": 40,
   "metadata": {},
   "outputs": [
    {
     "name": "stdout",
     "output_type": "stream",
     "text": [
      "[[0 0 0 0 0 0 0 0]\n",
      " [0 0 0 0 0 0 0 1]\n",
      " [0 0 0 0 0 0 1 0]\n",
      " [0 0 0 0 0 0 1 1]\n",
      " [0 0 0 0 1 1 1 1]\n",
      " [0 0 0 1 0 0 0 0]\n",
      " [0 0 1 0 0 0 0 0]\n",
      " [0 1 0 0 0 0 0 0]\n",
      " [1 0 0 0 0 0 0 0]]\n"
     ]
    }
   ],
   "source": [
    "#95. 将一个整数向量转换为matrix binary的表现形式 (★★★)\n",
    "#(提示: np.unpackbits)\n",
    "I = np.array([0, 1, 2, 3, 15, 16, 32, 64, 128])\n",
    "B = ((I.reshape(-1,1) & (2**np.arange(8))) != 0).astype(int)\n",
    "print(B[:,::-1])\n",
    "\n",
    "# # 方法2\n",
    "# print (np.unpackbits(I[:, np.newaxis], axis=1))"
   ]
  },
  {
   "cell_type": "code",
   "execution_count": 41,
   "metadata": {},
   "outputs": [
    {
     "name": "stdout",
     "output_type": "stream",
     "text": [
      "[[0 0 0]\n",
      " [0 1 0]\n",
      " [1 1 0]]\n"
     ]
    }
   ],
   "source": [
    "#96. 给定一个二维数组，如何提取出唯一的(unique)行?(★★★)\n",
    "#(提示: np.ascontiguousarray)\n",
    "\n",
    "Z = np.random.randint(0,2,(6,3))\n",
    "T = np.ascontiguousarray(Z).view(np.dtype((np.void, Z.dtype.itemsize * Z.shape[1])))\n",
    "_, idx = np.unique(T, return_index=True)\n",
    "uZ = Z[idx]\n",
    "print (uZ)"
   ]
  },
  {
   "cell_type": "code",
   "execution_count": 42,
   "metadata": {},
   "outputs": [
    {
     "name": "stdout",
     "output_type": "stream",
     "text": [
      "sum\n",
      "4.311256815251577\n",
      "A * B\n",
      "[0.07087869 0.863815   0.06601426 0.35051391 0.00318295 0.06167924\n",
      " 0.03139799 0.28402578 0.00933995 0.1303848 ]\n",
      "inner\n",
      "1.8712325809404302\n",
      "outer\n",
      "[[0.07087869 0.18511817 0.03031047 0.17589998 0.02265947 0.01615002\n",
      "  0.00796585 0.07478632 0.05343391 0.15173359]\n",
      " [0.33074049 0.863815   0.14143744 0.82080022 0.10573565 0.07536066\n",
      "  0.03717096 0.34897463 0.24933811 0.70803289]\n",
      " [0.15436924 0.4031755  0.06601426 0.38309885 0.04935087 0.0351737\n",
      "  0.01734911 0.16287981 0.11637563 0.33046603]\n",
      " [0.14123917 0.36888291 0.06039934 0.35051391 0.04515327 0.03218196\n",
      "  0.01587346 0.14902586 0.10647716 0.30235783]\n",
      " [0.00995624 0.02600332 0.00425767 0.02470845 0.00318295 0.00226857\n",
      "  0.00111895 0.01050514 0.0075058  0.02131383]\n",
      " [0.27069592 0.70699295 0.11576006 0.67178732 0.08653978 0.06167924\n",
      "  0.03042273 0.28561972 0.2040718  0.57949243]\n",
      " [0.27937364 0.72965708 0.11947099 0.69332286 0.08931399 0.0636565\n",
      "  0.03139799 0.29477586 0.21061375 0.59806927]\n",
      " [0.26918525 0.70304746 0.11511404 0.6680383  0.08605683 0.06133503\n",
      "  0.03025295 0.28402578 0.20293295 0.57625848]\n",
      " [0.01238921 0.03235764 0.0052981  0.03074635 0.00396075 0.00282293\n",
      "  0.00139239 0.01307224 0.00933995 0.0265222 ]\n",
      " [0.06090612 0.1590722  0.02604581 0.15115099 0.0194713  0.01387772\n",
      "  0.00684506 0.06426395 0.0459158  0.1303848 ]]\n"
     ]
    }
   ],
   "source": [
    "#97. 考虑两个向量A和B，写出用einsum等式对应的inner, outer, sum, mul函数(★★★)\n",
    "#(提示: np.einsum)\n",
    "\n",
    "\n",
    "A = np.random.uniform(0,1,10)\n",
    "B = np.random.uniform(0,1,10)\n",
    "print ('sum')\n",
    "print (np.einsum('i->', A))# np.sum(A)\n",
    "\n",
    "print ('A * B')\n",
    "print (np.einsum('i,i->i', A, B)) # A * B\n",
    "\n",
    "print ('inner')\n",
    "print (np.einsum('i,i', A, B))    # np.inner(A, B)\n",
    "\n",
    "print ('outer')\n",
    "print (np.einsum('i,j->ij', A, B))    # np.outer(A, B)"
   ]
  },
  {
   "cell_type": "code",
   "execution_count": 44,
   "metadata": {},
   "outputs": [],
   "source": [
    "#98. 考虑一个由两个向量描述的路径(X,Y)，如何用等距样例(equidistant samples)对其进行采样(sample)? (★★★)\n",
    "#Considering a path described by two vectors (X,Y), how to sample it using equidistant samples\n",
    "#(提示: np.cumsum, np.interp)\n",
    "\n",
    "\n",
    "phi = np.arange(0, 10*np.pi, 0.1)\n",
    "a = 1\n",
    "x = a*phi*np.cos(phi)\n",
    "y = a*phi*np.sin(phi)\n",
    "\n",
    "dr = (np.diff(x)**2 + np.diff(y)**2)**.5 # segment lengths\n",
    "r = np.zeros_like(x)\n",
    "r[1:] = np.cumsum(dr)                # integrate path\n",
    "r_int = np.linspace(0, r.max(), 200) # regular spaced path\n",
    "x_int = np.interp(r_int, r, x)       # integrate path\n",
    "y_int = np.interp(r_int, r, y)"
   ]
  },
  {
   "cell_type": "code",
   "execution_count": 45,
   "metadata": {},
   "outputs": [
    {
     "name": "stdout",
     "output_type": "stream",
     "text": [
      "[[2. 0. 1. 1.]]\n"
     ]
    }
   ],
   "source": [
    "#99. Given an integer n and a 2D array X, select from X the rows which can be interpreted as draws from a multinomial distribution with n degrees, i.e., the rows which only contain integers and which sum to n. (★★★)\n",
    "#(提示: np.logical_and.reduce, np.mod)\n",
    "\n",
    "X = np.asarray([[1.0, 0.0, 3.0, 8.0],\n",
    "                [2.0, 0.0, 1.0, 1.0],\n",
    "                [1.5, 2.5, 1.0, 0.0]])\n",
    "n = 4\n",
    "M = np.logical_and.reduce(np.mod(X, 1) == 0, axis=-1)\n",
    "M &= (X.sum(axis=-1) == n)\n",
    "print (X[M])"
   ]
  },
  {
   "cell_type": "code",
   "execution_count": 46,
   "metadata": {},
   "outputs": [
    {
     "name": "stdout",
     "output_type": "stream",
     "text": [
      "[-0.11427887  0.26301195]\n"
     ]
    }
   ],
   "source": [
    "#100. 对于一个一维数组X，计算它boostrapped之后的95%置信区间的平均值。\n",
    "#(Compute bootstrapped 95% confidence intervals for the mean of a 1D array X，i.e. resample the elements of an array with replacement N times, compute the mean of each sample, and then compute percentiles over the means). (★★★)\n",
    "#(提示: np.percentile)\n",
    "\n",
    "X = np.random.randn(100) # random 1D array\n",
    "N = 1000 # number of bootstrap samples\n",
    "idx = np.random.randint(0, X.size, (N, X.size))\n",
    "means = X[idx].mean(axis=1)\n",
    "confint = np.percentile(means, [2.5, 97.5])\n",
    "print (confint)"
   ]
  },
  {
   "cell_type": "code",
   "execution_count": null,
   "metadata": {},
   "outputs": [],
   "source": []
  }
 ],
 "metadata": {
  "kernelspec": {
   "display_name": "Python 3",
   "language": "python",
   "name": "python3"
  },
  "language_info": {
   "codemirror_mode": {
    "name": "ipython",
    "version": 3
   },
   "file_extension": ".py",
   "mimetype": "text/x-python",
   "name": "python",
   "nbconvert_exporter": "python",
   "pygments_lexer": "ipython3",
   "version": "3.7.3"
  }
 },
 "nbformat": 4,
 "nbformat_minor": 2
}
